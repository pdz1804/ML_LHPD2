{
 "cells": [
  {
   "cell_type": "markdown",
   "metadata": {},
   "source": [
    "# Import"
   ]
  },
  {
   "cell_type": "code",
   "execution_count": 32,
   "metadata": {},
   "outputs": [],
   "source": [
    "import os\n",
    "import pickle\n",
    "import sys\n",
    "import joblib\n",
    "import numpy as np\n",
    "import pandas as pd\n",
    "from sklearn.model_selection import train_test_split\n",
    "from sklearn.metrics import accuracy_score, precision_score, recall_score, f1_score, roc_auc_score"
   ]
  },
  {
   "cell_type": "code",
   "execution_count": 33,
   "metadata": {},
   "outputs": [
    {
     "name": "stdout",
     "output_type": "stream",
     "text": [
      "e:\\2_LEARNING_BKU\\2_File_2\\K22_HK242\\CO3117_Machine_Learning\\Main\n"
     ]
    }
   ],
   "source": [
    "# Get the absolute path to the 'src' directory\n",
    "project_root = os.path.abspath(os.path.join(os.getcwd(), \"..\", \"..\"))\n",
    "sys.path.append(project_root)\n",
    "print(project_root)"
   ]
  },
  {
   "cell_type": "code",
   "execution_count": 34,
   "metadata": {},
   "outputs": [],
   "source": [
    "from src.features.build_features_utils import *  # Assuming build_features_utils is inside build_features.py\n",
    "from src.models.models_utils import *  # Assuming utils.py exists inside src/models/"
   ]
  },
  {
   "cell_type": "markdown",
   "metadata": {},
   "source": [
    "# Load"
   ]
  },
  {
   "cell_type": "code",
   "execution_count": 52,
   "metadata": {},
   "outputs": [],
   "source": [
    "# Set random state to match training (if applicable)\n",
    "random_state = 42\n",
    "\n",
    "# Load the data (make sure to load your df_sampled or similar dataset)\n",
    "dataset_path = os.path.join(project_root, \"data\", \"final\", \"final_clean_no_neutral_no_duplicates.csv\")\n",
    "df = pd.read_csv(dataset_path)\n",
    "\n",
    "# Replace target 4 with 1\n",
    "df[\"target\"] = df[\"target\"].replace(4, 1)\n",
    "\n",
    "df_sampled = df.sample(n=2000, random_state=42)\n",
    "\n",
    "# Split the data as done during training\n",
    "X_train, X_test, y_train, y_test = train_test_split(\n",
    "    df_sampled[\"text_clean\"], df_sampled[\"target\"], test_size=0.2, random_state=random_state\n",
    ")\n"
   ]
  },
  {
   "cell_type": "code",
   "execution_count": 53,
   "metadata": {},
   "outputs": [
    {
     "name": "stdout",
     "output_type": "stream",
     "text": [
      "Training set size: 1600\n",
      "Test set size: 400\n",
      "Training labels size: 1600\n",
      "Test labels size: 400\n"
     ]
    }
   ],
   "source": [
    "# Print lengths of splits\n",
    "print(f\"Training set size: {len(X_train)}\")\n",
    "print(f\"Test set size: {len(X_test)}\")\n",
    "print(f\"Training labels size: {len(y_train)}\")\n",
    "print(f\"Test labels size: {len(y_test)}\")"
   ]
  },
  {
   "cell_type": "markdown",
   "metadata": {},
   "source": [
    "# Predict "
   ]
  },
  {
   "cell_type": "code",
   "execution_count": 54,
   "metadata": {},
   "outputs": [],
   "source": [
    "# Define the feature methods\n",
    "feature_methods = [\"count\", \"word2vec\", \"glove\", \"bert\"]\n",
    "\n",
    "X_test_features_dict = {}"
   ]
  },
  {
   "cell_type": "code",
   "execution_count": 55,
   "metadata": {},
   "outputs": [
    {
     "name": "stdout",
     "output_type": "stream",
     "text": [
      "✅ count - X_test_features shape: (400, 50)\n"
     ]
    },
    {
     "name": "stderr",
     "output_type": "stream",
     "text": [
      "Processing Word2Vec: 100%|██████████| 400/400 [00:00<00:00, 2877.13document/s]\n"
     ]
    },
    {
     "name": "stdout",
     "output_type": "stream",
     "text": [
      "✅ word2vec - X_test_features shape: (400, 50)\n"
     ]
    },
    {
     "name": "stderr",
     "output_type": "stream",
     "text": [
      "Processing GloVe: 100%|██████████| 400/400 [00:00<00:00, 2378.17document/s]\n"
     ]
    },
    {
     "name": "stdout",
     "output_type": "stream",
     "text": [
      "✅ glove - X_test_features shape: (400, 50)\n"
     ]
    },
    {
     "name": "stderr",
     "output_type": "stream",
     "text": [
      "Processing BERT: 100%|██████████| 400/400 [00:11<00:00, 34.40document/s]\n"
     ]
    },
    {
     "name": "stdout",
     "output_type": "stream",
     "text": [
      "✅ bert - X_test_features shape: (400, 50)\n"
     ]
    }
   ],
   "source": [
    "# Predict for each model\n",
    "for method in feature_methods:\n",
    "    # Initialize FeatureBuilder\n",
    "    feature_builder = FeatureBuilder(\n",
    "        method=method,\n",
    "        save_dir=os.path.join(project_root, \"data\", \"processed\"),\n",
    "        reduce_dim=\"pca\",  # Assuming you want to reduce dimensions using PCA\n",
    "        n_components=50\n",
    "    )\n",
    "\n",
    "    # Transform test data\n",
    "    feature_builder.fit(X_train.tolist())\n",
    "    X_test_features_dict[method] = feature_builder.transform(X_test.tolist())\n",
    "    print(f\"✅ {method} - X_test_features shape: {X_test_features_dict[method].shape}\")\n"
   ]
  },
  {
   "cell_type": "code",
   "execution_count": 56,
   "metadata": {},
   "outputs": [],
   "source": [
    "model_names = [\"decision_tree\", \"logistic_regression\", \"random_forest\", \"xgboost\", \"perceptron\", \"bayesian_enhanced\", \"svm\"]"
   ]
  },
  {
   "cell_type": "code",
   "execution_count": 57,
   "metadata": {},
   "outputs": [
    {
     "name": "stdout",
     "output_type": "stream",
     "text": [
      "Model: decision_tree\n",
      "Method: count\n",
      "--------------------------------------------------\n",
      "Accuracy: 0.4775\n",
      "Precision: 0.4719\n",
      "Recall: 0.4221\n",
      "F1 Score: 0.4456\n",
      "ROC AUC: 0.4572\n",
      "--------------------------------------------------\n",
      "Model: decision_tree\n",
      "Method: word2vec\n",
      "--------------------------------------------------\n",
      "Accuracy: 0.4700\n",
      "Precision: 0.4714\n",
      "Recall: 0.5377\n",
      "F1 Score: 0.5023\n",
      "ROC AUC: 0.4715\n",
      "--------------------------------------------------\n",
      "Model: decision_tree\n",
      "Method: glove\n",
      "--------------------------------------------------\n",
      "Accuracy: 0.4950\n",
      "Precision: 0.4919\n",
      "Recall: 0.4573\n",
      "F1 Score: 0.4740\n",
      "ROC AUC: 0.4966\n",
      "--------------------------------------------------\n",
      "Model: decision_tree\n",
      "Method: bert\n",
      "--------------------------------------------------\n",
      "Accuracy: 0.4975\n",
      "Precision: 0.4951\n",
      "Recall: 0.5075\n",
      "F1 Score: 0.5012\n",
      "ROC AUC: 0.4857\n",
      "--------------------------------------------------\n",
      "%%%%%%%%%%%%%%%%%%%%%%%%%%%%%%%%%%%%%%%%%%%%%%%%%%\n",
      "Model: logistic_regression\n",
      "Method: count\n",
      "--------------------------------------------------\n",
      "Accuracy: 0.5400\n",
      "Precision: 0.5405\n",
      "Recall: 0.5025\n",
      "F1 Score: 0.5208\n",
      "ROC AUC: 0.5673\n",
      "--------------------------------------------------\n",
      "Model: logistic_regression\n",
      "Method: word2vec\n",
      "--------------------------------------------------\n",
      "Accuracy: 0.4175\n",
      "Precision: 0.4298\n",
      "Recall: 0.5226\n",
      "F1 Score: 0.4717\n",
      "ROC AUC: 0.4050\n",
      "--------------------------------------------------\n",
      "Model: logistic_regression\n",
      "Method: glove\n",
      "--------------------------------------------------\n",
      "Accuracy: 0.4825\n",
      "Precision: 0.4820\n",
      "Recall: 0.5377\n",
      "F1 Score: 0.5083\n",
      "ROC AUC: 0.4984\n",
      "--------------------------------------------------\n",
      "Model: logistic_regression\n",
      "Method: bert\n",
      "--------------------------------------------------\n",
      "Accuracy: 0.5825\n",
      "Precision: 0.5690\n",
      "Recall: 0.6633\n",
      "F1 Score: 0.6125\n",
      "ROC AUC: 0.6059\n",
      "--------------------------------------------------\n",
      "%%%%%%%%%%%%%%%%%%%%%%%%%%%%%%%%%%%%%%%%%%%%%%%%%%\n",
      "Model: random_forest\n",
      "Method: count\n",
      "--------------------------------------------------\n",
      "Accuracy: 0.5050\n",
      "Precision: 0.5025\n",
      "Recall: 0.5075\n",
      "F1 Score: 0.5050\n",
      "ROC AUC: 0.5120\n",
      "--------------------------------------------------\n",
      "Model: random_forest\n",
      "Method: word2vec\n",
      "--------------------------------------------------\n",
      "Accuracy: 0.4275\n",
      "Precision: 0.4419\n",
      "Recall: 0.5729\n",
      "F1 Score: 0.4989\n",
      "ROC AUC: 0.4118\n",
      "--------------------------------------------------\n",
      "Model: random_forest\n",
      "Method: glove\n",
      "--------------------------------------------------\n",
      "Accuracy: 0.4850\n",
      "Precision: 0.4850\n",
      "Recall: 0.5678\n",
      "F1 Score: 0.5231\n",
      "ROC AUC: 0.4746\n",
      "--------------------------------------------------\n",
      "Model: random_forest\n",
      "Method: bert\n",
      "--------------------------------------------------\n",
      "Accuracy: 0.5525\n",
      "Precision: 0.5394\n",
      "Recall: 0.6884\n",
      "F1 Score: 0.6049\n",
      "ROC AUC: 0.5722\n",
      "--------------------------------------------------\n",
      "%%%%%%%%%%%%%%%%%%%%%%%%%%%%%%%%%%%%%%%%%%%%%%%%%%\n",
      "Model: xgboost\n",
      "Method: count\n",
      "--------------------------------------------------\n",
      "Accuracy: 0.4925\n",
      "Precision: 0.4896\n",
      "Recall: 0.4724\n",
      "F1 Score: 0.4808\n",
      "ROC AUC: 0.4852\n",
      "--------------------------------------------------\n",
      "Model: xgboost\n",
      "Method: word2vec\n",
      "--------------------------------------------------\n",
      "Accuracy: 0.4100\n",
      "Precision: 0.4307\n",
      "Recall: 0.5779\n",
      "F1 Score: 0.4936\n",
      "ROC AUC: 0.3847\n",
      "--------------------------------------------------\n",
      "Model: xgboost\n",
      "Method: glove\n",
      "--------------------------------------------------\n",
      "Accuracy: 0.4750\n",
      "Precision: 0.4762\n",
      "Recall: 0.5528\n",
      "F1 Score: 0.5116\n",
      "ROC AUC: 0.4881\n",
      "--------------------------------------------------\n",
      "Model: xgboost\n",
      "Method: bert\n",
      "--------------------------------------------------\n",
      "Accuracy: 0.4975\n",
      "Precision: 0.4955\n",
      "Recall: 0.5528\n",
      "F1 Score: 0.5226\n",
      "ROC AUC: 0.5275\n",
      "--------------------------------------------------\n",
      "%%%%%%%%%%%%%%%%%%%%%%%%%%%%%%%%%%%%%%%%%%%%%%%%%%\n",
      "Model: perceptron\n",
      "Method: count\n",
      "--------------------------------------------------\n",
      "Accuracy: 0.5075\n",
      "Precision: 0.5070\n",
      "Recall: 0.3618\n",
      "F1 Score: 0.4223\n",
      "ROC AUC: N/A\n",
      "--------------------------------------------------\n",
      "Model: perceptron\n",
      "Method: word2vec\n",
      "--------------------------------------------------\n",
      "Accuracy: 0.4800\n",
      "Precision: 0.4151\n",
      "Recall: 0.1106\n",
      "F1 Score: 0.1746\n",
      "ROC AUC: N/A\n",
      "--------------------------------------------------\n",
      "Model: perceptron\n",
      "Method: glove\n",
      "--------------------------------------------------\n",
      "Accuracy: 0.4950\n",
      "Precision: 0.4828\n",
      "Recall: 0.2111\n",
      "F1 Score: 0.2937\n",
      "ROC AUC: N/A\n",
      "--------------------------------------------------\n",
      "Model: perceptron\n",
      "Method: bert\n",
      "--------------------------------------------------\n",
      "Accuracy: 0.5475\n",
      "Precision: 0.7368\n",
      "Recall: 0.1407\n",
      "F1 Score: 0.2363\n",
      "ROC AUC: N/A\n",
      "--------------------------------------------------\n",
      "%%%%%%%%%%%%%%%%%%%%%%%%%%%%%%%%%%%%%%%%%%%%%%%%%%\n",
      "Model: bayesian_enhanced\n",
      "Method: count\n",
      "--------------------------------------------------\n",
      "Accuracy: 0.5700\n",
      "Precision: 0.5551\n",
      "Recall: 0.6834\n",
      "F1 Score: 0.6126\n",
      "ROC AUC: 0.5353\n",
      "--------------------------------------------------\n",
      "Model: bayesian_enhanced\n",
      "Method: word2vec\n",
      "--------------------------------------------------\n",
      "Accuracy: 0.5275\n",
      "Precision: 0.5333\n",
      "Recall: 0.4020\n",
      "F1 Score: 0.4585\n",
      "ROC AUC: 0.5404\n",
      "--------------------------------------------------\n",
      "Model: bayesian_enhanced\n",
      "Method: glove\n",
      "--------------------------------------------------\n",
      "Accuracy: 0.5450\n",
      "Precision: 0.5630\n",
      "Recall: 0.3819\n",
      "F1 Score: 0.4551\n",
      "ROC AUC: 0.5743\n",
      "--------------------------------------------------\n",
      "Model: bayesian_enhanced\n",
      "Method: bert\n",
      "--------------------------------------------------\n",
      "Accuracy: 0.5525\n",
      "Precision: 0.5467\n",
      "Recall: 0.5879\n",
      "F1 Score: 0.5666\n",
      "ROC AUC: 0.5694\n",
      "--------------------------------------------------\n",
      "%%%%%%%%%%%%%%%%%%%%%%%%%%%%%%%%%%%%%%%%%%%%%%%%%%\n",
      "Model: svm\n",
      "Method: count\n",
      "--------------------------------------------------\n",
      "Accuracy: 0.5350\n",
      "Precision: 0.5308\n",
      "Recall: 0.5628\n",
      "F1 Score: 0.5463\n",
      "ROC AUC: N/A\n",
      "--------------------------------------------------\n",
      "Model: svm\n",
      "Method: word2vec\n",
      "--------------------------------------------------\n",
      "Accuracy: 0.4125\n",
      "Precision: 0.4375\n",
      "Recall: 0.6332\n",
      "F1 Score: 0.5175\n",
      "ROC AUC: N/A\n",
      "--------------------------------------------------\n",
      "Model: svm\n",
      "Method: glove\n",
      "--------------------------------------------------\n",
      "Accuracy: 0.4775\n",
      "Precision: 0.4773\n",
      "Recall: 0.5276\n",
      "F1 Score: 0.5012\n",
      "ROC AUC: N/A\n",
      "--------------------------------------------------\n",
      "Model: svm\n",
      "Method: bert\n",
      "--------------------------------------------------\n",
      "Accuracy: 0.5100\n",
      "Precision: 0.5042\n",
      "Recall: 0.8995\n",
      "F1 Score: 0.6462\n",
      "ROC AUC: N/A\n",
      "--------------------------------------------------\n",
      "%%%%%%%%%%%%%%%%%%%%%%%%%%%%%%%%%%%%%%%%%%%%%%%%%%\n"
     ]
    }
   ],
   "source": [
    "# Predict for each model\n",
    "for model_name in model_names:\n",
    "    for method in feature_methods:\n",
    "        # Load the saved model\n",
    "        model_filename = os.path.join(project_root, \"src\", \"models\", f\"best_{model_name}_{method}.pkl\")\n",
    "        with open(model_filename, 'rb') as model_file:\n",
    "            model = joblib.load(model_file)\n",
    "\n",
    "        # Make predictions\n",
    "        y_pred = model.predict(X_test_features_dict[method])\n",
    "\n",
    "        # Compute metrics\n",
    "        accuracy = accuracy_score(y_test, y_pred)\n",
    "        precision = precision_score(y_test, y_pred, average='binary')\n",
    "        recall = recall_score(y_test, y_pred, average='binary')\n",
    "        f1 = f1_score(y_test, y_pred, average='binary')\n",
    "        \n",
    "        # ROC AUC can be computed if the model outputs probabilities\n",
    "        # Handle models that do not support `predict_proba`\n",
    "        if hasattr(model, \"predict_proba\"):\n",
    "            y_prob = model.predict_proba(X_test_features_dict[method])[:, 1]  # Take the positive class probabilities\n",
    "            roc_auc = roc_auc_score(y_test, y_prob)\n",
    "        else:\n",
    "            roc_auc = \"N/A\"  # Not applicable for models like Perceptron\n",
    "\n",
    "        # Print metrics\n",
    "        print(f\"Model: {model_name}\")\n",
    "        print(f\"Method: {method}\")\n",
    "        print(\"-\" * 50)\n",
    "        print(f\"Accuracy: {accuracy:.4f}\")\n",
    "        print(f\"Precision: {precision:.4f}\")\n",
    "        print(f\"Recall: {recall:.4f}\")\n",
    "        print(f\"F1 Score: {f1:.4f}\")\n",
    "        if hasattr(model, \"predict_proba\"):\n",
    "            print(f\"ROC AUC: {roc_auc:.4f}\")\n",
    "        else:\n",
    "            print(\"ROC AUC: N/A\")\n",
    "        print(\"-\" * 50)\n",
    "    print(\"%\" * 50)"
   ]
  }
 ],
 "metadata": {
  "kernelspec": {
   "display_name": "ml_env_test",
   "language": "python",
   "name": "python3"
  },
  "language_info": {
   "codemirror_mode": {
    "name": "ipython",
    "version": 3
   },
   "file_extension": ".py",
   "mimetype": "text/x-python",
   "name": "python",
   "nbconvert_exporter": "python",
   "pygments_lexer": "ipython3",
   "version": "3.12.8"
  }
 },
 "nbformat": 4,
 "nbformat_minor": 2
}
