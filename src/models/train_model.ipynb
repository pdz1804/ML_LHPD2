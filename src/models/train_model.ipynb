{
 "cells": [
  {
   "cell_type": "markdown",
   "metadata": {},
   "source": [
    "# Import"
   ]
  },
  {
   "cell_type": "code",
   "execution_count": 1,
   "metadata": {},
   "outputs": [
    {
     "name": "stdout",
     "output_type": "stream",
     "text": [
      "Requirement already satisfied: tensorflow in e:\\anaconda3\\envs\\ml_env_test\\lib\\site-packages (2.18.0)\n",
      "Requirement already satisfied: keras in e:\\anaconda3\\envs\\ml_env_test\\lib\\site-packages (3.8.0)\n",
      "Requirement already satisfied: tensorflow-intel==2.18.0 in e:\\anaconda3\\envs\\ml_env_test\\lib\\site-packages (from tensorflow) (2.18.0)\n",
      "Requirement already satisfied: absl-py>=1.0.0 in e:\\anaconda3\\envs\\ml_env_test\\lib\\site-packages (from tensorflow-intel==2.18.0->tensorflow) (2.1.0)\n",
      "Requirement already satisfied: astunparse>=1.6.0 in e:\\anaconda3\\envs\\ml_env_test\\lib\\site-packages (from tensorflow-intel==2.18.0->tensorflow) (1.6.3)\n",
      "Requirement already satisfied: flatbuffers>=24.3.25 in e:\\anaconda3\\envs\\ml_env_test\\lib\\site-packages (from tensorflow-intel==2.18.0->tensorflow) (25.2.10)\n",
      "Requirement already satisfied: gast!=0.5.0,!=0.5.1,!=0.5.2,>=0.2.1 in e:\\anaconda3\\envs\\ml_env_test\\lib\\site-packages (from tensorflow-intel==2.18.0->tensorflow) (0.6.0)\n",
      "Requirement already satisfied: google-pasta>=0.1.1 in e:\\anaconda3\\envs\\ml_env_test\\lib\\site-packages (from tensorflow-intel==2.18.0->tensorflow) (0.2.0)\n",
      "Requirement already satisfied: libclang>=13.0.0 in e:\\anaconda3\\envs\\ml_env_test\\lib\\site-packages (from tensorflow-intel==2.18.0->tensorflow) (18.1.1)\n",
      "Requirement already satisfied: opt-einsum>=2.3.2 in e:\\anaconda3\\envs\\ml_env_test\\lib\\site-packages (from tensorflow-intel==2.18.0->tensorflow) (3.4.0)\n",
      "Requirement already satisfied: packaging in c:\\users\\user\\appdata\\roaming\\python\\python312\\site-packages (from tensorflow-intel==2.18.0->tensorflow) (24.2)\n",
      "Requirement already satisfied: protobuf!=4.21.0,!=4.21.1,!=4.21.2,!=4.21.3,!=4.21.4,!=4.21.5,<6.0.0dev,>=3.20.3 in e:\\anaconda3\\envs\\ml_env_test\\lib\\site-packages (from tensorflow-intel==2.18.0->tensorflow) (5.29.3)\n",
      "Requirement already satisfied: requests<3,>=2.21.0 in e:\\anaconda3\\envs\\ml_env_test\\lib\\site-packages (from tensorflow-intel==2.18.0->tensorflow) (2.32.3)\n",
      "Requirement already satisfied: setuptools in e:\\anaconda3\\envs\\ml_env_test\\lib\\site-packages (from tensorflow-intel==2.18.0->tensorflow) (75.1.0)\n",
      "Requirement already satisfied: six>=1.12.0 in c:\\users\\user\\appdata\\roaming\\python\\python312\\site-packages (from tensorflow-intel==2.18.0->tensorflow) (1.16.0)\n",
      "Requirement already satisfied: termcolor>=1.1.0 in e:\\anaconda3\\envs\\ml_env_test\\lib\\site-packages (from tensorflow-intel==2.18.0->tensorflow) (2.5.0)\n",
      "Requirement already satisfied: typing-extensions>=3.6.6 in e:\\anaconda3\\envs\\ml_env_test\\lib\\site-packages (from tensorflow-intel==2.18.0->tensorflow) (4.12.2)\n",
      "Requirement already satisfied: wrapt>=1.11.0 in e:\\anaconda3\\envs\\ml_env_test\\lib\\site-packages (from tensorflow-intel==2.18.0->tensorflow) (1.17.2)\n",
      "Requirement already satisfied: grpcio<2.0,>=1.24.3 in e:\\anaconda3\\envs\\ml_env_test\\lib\\site-packages (from tensorflow-intel==2.18.0->tensorflow) (1.70.0)\n",
      "Requirement already satisfied: tensorboard<2.19,>=2.18 in e:\\anaconda3\\envs\\ml_env_test\\lib\\site-packages (from tensorflow-intel==2.18.0->tensorflow) (2.18.0)\n",
      "Requirement already satisfied: numpy<2.1.0,>=1.26.0 in e:\\anaconda3\\envs\\ml_env_test\\lib\\site-packages (from tensorflow-intel==2.18.0->tensorflow) (1.26.4)\n",
      "Requirement already satisfied: h5py>=3.11.0 in e:\\anaconda3\\envs\\ml_env_test\\lib\\site-packages (from tensorflow-intel==2.18.0->tensorflow) (3.13.0)\n",
      "Requirement already satisfied: ml-dtypes<0.5.0,>=0.4.0 in e:\\anaconda3\\envs\\ml_env_test\\lib\\site-packages (from tensorflow-intel==2.18.0->tensorflow) (0.4.1)\n",
      "Requirement already satisfied: rich in e:\\anaconda3\\envs\\ml_env_test\\lib\\site-packages (from keras) (13.9.4)\n",
      "Requirement already satisfied: namex in e:\\anaconda3\\envs\\ml_env_test\\lib\\site-packages (from keras) (0.0.8)\n",
      "Requirement already satisfied: optree in e:\\anaconda3\\envs\\ml_env_test\\lib\\site-packages (from keras) (0.14.0)\n",
      "Requirement already satisfied: markdown-it-py>=2.2.0 in e:\\anaconda3\\envs\\ml_env_test\\lib\\site-packages (from rich->keras) (3.0.0)\n",
      "Requirement already satisfied: pygments<3.0.0,>=2.13.0 in c:\\users\\user\\appdata\\roaming\\python\\python312\\site-packages (from rich->keras) (2.18.0)\n",
      "Requirement already satisfied: wheel<1.0,>=0.23.0 in e:\\anaconda3\\envs\\ml_env_test\\lib\\site-packages (from astunparse>=1.6.0->tensorflow-intel==2.18.0->tensorflow) (0.44.0)\n",
      "Requirement already satisfied: mdurl~=0.1 in e:\\anaconda3\\envs\\ml_env_test\\lib\\site-packages (from markdown-it-py>=2.2.0->rich->keras) (0.1.2)\n",
      "Requirement already satisfied: charset-normalizer<4,>=2 in e:\\anaconda3\\envs\\ml_env_test\\lib\\site-packages (from requests<3,>=2.21.0->tensorflow-intel==2.18.0->tensorflow) (3.3.2)\n",
      "Requirement already satisfied: idna<4,>=2.5 in e:\\anaconda3\\envs\\ml_env_test\\lib\\site-packages (from requests<3,>=2.21.0->tensorflow-intel==2.18.0->tensorflow) (3.10)\n",
      "Requirement already satisfied: urllib3<3,>=1.21.1 in e:\\anaconda3\\envs\\ml_env_test\\lib\\site-packages (from requests<3,>=2.21.0->tensorflow-intel==2.18.0->tensorflow) (2.3.0)\n",
      "Requirement already satisfied: certifi>=2017.4.17 in e:\\anaconda3\\envs\\ml_env_test\\lib\\site-packages (from requests<3,>=2.21.0->tensorflow-intel==2.18.0->tensorflow) (2024.12.14)\n",
      "Requirement already satisfied: markdown>=2.6.8 in e:\\anaconda3\\envs\\ml_env_test\\lib\\site-packages (from tensorboard<2.19,>=2.18->tensorflow-intel==2.18.0->tensorflow) (3.7)\n",
      "Requirement already satisfied: tensorboard-data-server<0.8.0,>=0.7.0 in e:\\anaconda3\\envs\\ml_env_test\\lib\\site-packages (from tensorboard<2.19,>=2.18->tensorflow-intel==2.18.0->tensorflow) (0.7.2)\n",
      "Requirement already satisfied: werkzeug>=1.0.1 in e:\\anaconda3\\envs\\ml_env_test\\lib\\site-packages (from tensorboard<2.19,>=2.18->tensorflow-intel==2.18.0->tensorflow) (3.1.3)\n",
      "Requirement already satisfied: MarkupSafe>=2.1.1 in e:\\anaconda3\\envs\\ml_env_test\\lib\\site-packages (from werkzeug>=1.0.1->tensorboard<2.19,>=2.18->tensorflow-intel==2.18.0->tensorflow) (2.1.3)\n",
      "Note: you may need to restart the kernel to use updated packages.\n"
     ]
    },
    {
     "name": "stderr",
     "output_type": "stream",
     "text": [
      "WARNING: Ignoring invalid distribution ~cipy (e:\\anaconda3\\envs\\ml_env_test\\Lib\\site-packages)\n",
      "WARNING: Ignoring invalid distribution ~cipy (e:\\anaconda3\\envs\\ml_env_test\\Lib\\site-packages)\n",
      "WARNING: Ignoring invalid distribution ~cipy (e:\\anaconda3\\envs\\ml_env_test\\Lib\\site-packages)\n"
     ]
    }
   ],
   "source": [
    "%pip install tensorflow keras\n"
   ]
  },
  {
   "cell_type": "code",
   "execution_count": 2,
   "metadata": {},
   "outputs": [
    {
     "name": "stdout",
     "output_type": "stream",
     "text": [
      "Requirement already satisfied: keras-tuner in e:\\anaconda3\\envs\\ml_env_test\\lib\\site-packages (1.4.7)\n",
      "Requirement already satisfied: keras in e:\\anaconda3\\envs\\ml_env_test\\lib\\site-packages (from keras-tuner) (3.8.0)\n",
      "Requirement already satisfied: packaging in c:\\users\\user\\appdata\\roaming\\python\\python312\\site-packages (from keras-tuner) (24.2)\n",
      "Requirement already satisfied: requests in e:\\anaconda3\\envs\\ml_env_test\\lib\\site-packages (from keras-tuner) (2.32.3)\n",
      "Requirement already satisfied: kt-legacy in e:\\anaconda3\\envs\\ml_env_test\\lib\\site-packages (from keras-tuner) (1.0.5)\n",
      "Requirement already satisfied: absl-py in e:\\anaconda3\\envs\\ml_env_test\\lib\\site-packages (from keras->keras-tuner) (2.1.0)\n",
      "Requirement already satisfied: numpy in e:\\anaconda3\\envs\\ml_env_test\\lib\\site-packages (from keras->keras-tuner) (1.26.4)\n",
      "Requirement already satisfied: rich in e:\\anaconda3\\envs\\ml_env_test\\lib\\site-packages (from keras->keras-tuner) (13.9.4)\n",
      "Requirement already satisfied: namex in e:\\anaconda3\\envs\\ml_env_test\\lib\\site-packages (from keras->keras-tuner) (0.0.8)\n",
      "Requirement already satisfied: h5py in e:\\anaconda3\\envs\\ml_env_test\\lib\\site-packages (from keras->keras-tuner) (3.13.0)\n",
      "Requirement already satisfied: optree in e:\\anaconda3\\envs\\ml_env_test\\lib\\site-packages (from keras->keras-tuner) (0.14.0)\n",
      "Requirement already satisfied: ml-dtypes in e:\\anaconda3\\envs\\ml_env_test\\lib\\site-packages (from keras->keras-tuner) (0.4.1)\n",
      "Requirement already satisfied: charset-normalizer<4,>=2 in e:\\anaconda3\\envs\\ml_env_test\\lib\\site-packages (from requests->keras-tuner) (3.3.2)\n",
      "Requirement already satisfied: idna<4,>=2.5 in e:\\anaconda3\\envs\\ml_env_test\\lib\\site-packages (from requests->keras-tuner) (3.10)\n",
      "Requirement already satisfied: urllib3<3,>=1.21.1 in e:\\anaconda3\\envs\\ml_env_test\\lib\\site-packages (from requests->keras-tuner) (2.3.0)\n",
      "Requirement already satisfied: certifi>=2017.4.17 in e:\\anaconda3\\envs\\ml_env_test\\lib\\site-packages (from requests->keras-tuner) (2024.12.14)\n",
      "Requirement already satisfied: typing-extensions>=4.5.0 in e:\\anaconda3\\envs\\ml_env_test\\lib\\site-packages (from optree->keras->keras-tuner) (4.12.2)\n",
      "Requirement already satisfied: markdown-it-py>=2.2.0 in e:\\anaconda3\\envs\\ml_env_test\\lib\\site-packages (from rich->keras->keras-tuner) (3.0.0)\n",
      "Requirement already satisfied: pygments<3.0.0,>=2.13.0 in c:\\users\\user\\appdata\\roaming\\python\\python312\\site-packages (from rich->keras->keras-tuner) (2.18.0)\n",
      "Requirement already satisfied: mdurl~=0.1 in e:\\anaconda3\\envs\\ml_env_test\\lib\\site-packages (from markdown-it-py>=2.2.0->rich->keras->keras-tuner) (0.1.2)\n",
      "Note: you may need to restart the kernel to use updated packages.\n"
     ]
    },
    {
     "name": "stderr",
     "output_type": "stream",
     "text": [
      "WARNING: Ignoring invalid distribution ~cipy (e:\\anaconda3\\envs\\ml_env_test\\Lib\\site-packages)\n",
      "WARNING: Ignoring invalid distribution ~cipy (e:\\anaconda3\\envs\\ml_env_test\\Lib\\site-packages)\n",
      "WARNING: Ignoring invalid distribution ~cipy (e:\\anaconda3\\envs\\ml_env_test\\Lib\\site-packages)\n"
     ]
    }
   ],
   "source": [
    "%pip install keras-tuner\n"
   ]
  },
  {
   "cell_type": "code",
   "execution_count": 3,
   "metadata": {},
   "outputs": [],
   "source": [
    "%load_ext autoreload\n",
    "%autoreload 2"
   ]
  },
  {
   "cell_type": "code",
   "execution_count": 4,
   "metadata": {},
   "outputs": [],
   "source": [
    "import tensorflow as tf\n",
    "from tensorflow import keras\n",
    "from tensorflow.keras import layers\n",
    "from tqdm import tqdm\n",
    "import keras_tuner as kt\n",
    "from tensorflow.keras.models import load_model"
   ]
  },
  {
   "cell_type": "code",
   "execution_count": 5,
   "metadata": {},
   "outputs": [],
   "source": [
    "import os\n",
    "import sys\n",
    "import pickle\n",
    "import numpy as np\n",
    "import pandas as pd\n",
    "import matplotlib.pyplot as plt\n",
    "from sklearn.model_selection import train_test_split"
   ]
  },
  {
   "cell_type": "code",
   "execution_count": 6,
   "metadata": {},
   "outputs": [],
   "source": [
    "from sklearn.tree import DecisionTreeClassifier, plot_tree\n",
    "from sklearn.linear_model import Perceptron, LogisticRegression\n",
    "from sklearn.neural_network import MLPClassifier\n",
    "from sklearn.svm import SVC\n",
    "from sklearn.naive_bayes import GaussianNB\n",
    "from sklearn.decomposition import PCA\n",
    "from sklearn.discriminant_analysis import LinearDiscriminantAnalysis as LDA\n",
    "from sklearn.preprocessing import MaxAbsScaler\n",
    "import xgboost as xgb\n",
    "from sklearn.ensemble import RandomForestClassifier\n",
    "import hmmlearn.hmm\n",
    "from hmmlearn.hmm import GaussianHMM\n",
    "from sklearn_crfsuite import CRF\n",
    "from sklearn.metrics import log_loss, hinge_loss, precision_score, recall_score, f1_score, roc_auc_score"
   ]
  },
  {
   "cell_type": "code",
   "execution_count": 7,
   "metadata": {},
   "outputs": [],
   "source": [
    "## Options\n",
    "pd.set_option(\"max_colwidth\", None)"
   ]
  },
  {
   "cell_type": "code",
   "execution_count": 8,
   "metadata": {},
   "outputs": [
    {
     "name": "stdout",
     "output_type": "stream",
     "text": [
      "e:\\2_LEARNING_BKU\\2_File_2\\K22_HK242\\CO3117_Machine_Learning\\Main\n"
     ]
    }
   ],
   "source": [
    "# Get the absolute path to the 'src' directory\n",
    "project_root = os.path.abspath(os.path.join(os.getcwd(), \"..\", \"..\"))\n",
    "sys.path.append(project_root)\n",
    "print(project_root)"
   ]
  },
  {
   "cell_type": "code",
   "execution_count": 9,
   "metadata": {},
   "outputs": [
    {
     "name": "stderr",
     "output_type": "stream",
     "text": [
      "e:\\anaconda3\\envs\\ml_env_test\\Lib\\site-packages\\tqdm\\auto.py:21: TqdmWarning: IProgress not found. Please update jupyter and ipywidgets. See https://ipywidgets.readthedocs.io/en/stable/user_install.html\n",
      "  from .autonotebook import tqdm as notebook_tqdm\n"
     ]
    }
   ],
   "source": [
    "from src.features.build_features_utils import *  # Assuming build_features_utils is inside build_features.py\n",
    "from src.models.models_utils import *  # Assuming utils.py exists inside src/models/"
   ]
  },
  {
   "cell_type": "markdown",
   "metadata": {},
   "source": [
    "# Dict"
   ]
  },
  {
   "cell_type": "code",
   "execution_count": 10,
   "metadata": {},
   "outputs": [],
   "source": [
    "# Dictionary for models\n",
    "MODEL_DICT = {\n",
    "    \"decision_tree\": DecisionTreeClassifier,\n",
    "    \"perceptron\": Perceptron,\n",
    "    \"mlp\": MLPClassifier,\n",
    "    \"bayesian\": GaussianNB,\n",
    "    \"random_forest\": RandomForestClassifier,\n",
    "    \"xgboost\": xgb.XGBClassifier,\n",
    "    \"svm\": SVC,\n",
    "    \"logistic_regression\": LogisticRegression,\n",
    "    \"crf\": lambda: CRF(\n",
    "        algorithm=\"lbfgs\",  # Default: lbfgs\n",
    "        max_iterations=100,  # Limit iterations to prevent overfitting\n",
    "        all_possible_transitions=True\n",
    "    )\n",
    "} \n",
    "\n",
    "# Dictionary for model parameters\n",
    "MODEL_PARAMS = {\n",
    "    # \"decision_tree\": {\n",
    "    #     \"criterion\": [\"gini\", \"entropy\"],\n",
    "    #     \"max_depth\": [10, 20],\n",
    "    #     \"min_samples_split\": [2, 5],\n",
    "    #     \"min_samples_leaf\": [1, 2],\n",
    "    #     \"max_features\": [\"sqrt\", \"log2\"]\n",
    "    # },\n",
    "    \n",
    "    \"decision_tree\": {\n",
    "        \"criterion\": [\"gini\", \"entropy\"],\n",
    "        \"max_depth\": [10, 20, 30, 40],\n",
    "        \"min_samples_split\": [2, 5, 10],\n",
    "        \"min_samples_leaf\": [1, 2, 4],\n",
    "        \"max_features\": [\"sqrt\", \"log2\"]\n",
    "    },\n",
    "    \n",
    "    # \"perceptron\": {\n",
    "    #     \"max_iter\": [1000, 2000],\n",
    "    #     \"tol\": [1e-3],\n",
    "    #     \"eta0\": [0.001],\n",
    "    #     \"penalty\": [\"l2\"],\n",
    "    #     \"alpha\": [0.0001, 0.001]\n",
    "    # },\n",
    "    \n",
    "    \"perceptron\": {\n",
    "        \"max_iter\": [1000, 2000],\n",
    "        \"tol\": [1e-3, 1e-4],\n",
    "        \"eta0\": [0.001, 0.01, 0.1],\n",
    "        \"penalty\": [None, \"l2\", \"l1\"],\n",
    "        \"alpha\": [0.0001, 0.001, 0.01]\n",
    "    },\n",
    "    \n",
    "    \"mlp\": {\n",
    "        \"hidden_layer_sizes\": [(50,), (100,)],\n",
    "        \"activation\": [\"tanh\", \"logistic\"],\n",
    "        \"solver\": [\"sgd\"],\n",
    "        \"alpha\": [0.0001, 0.001, 0.01],\n",
    "        \"batch_size\": [32],\n",
    "        \"max_iter\": [1000],\n",
    "    },\n",
    "    \n",
    "    # \"mlp\": {\n",
    "    #     \"hidden_layer_sizes\": [(50,), (100,), (50, 50), (100, 100)],\n",
    "    #     \"activation\": [\"relu\", \"tanh\", \"logistic\"],\n",
    "    #     \"solver\": [\"adam\", \"sgd\"],\n",
    "    #     \"alpha\": [0.0001, 0.001, 0.01],\n",
    "    #     \"batch_size\": [32, 64, 128],\n",
    "    #     \"max_iter\": [500, 1000],\n",
    "    #     \"learning_rate\": [\"constant\", \"invscaling\", \"adaptive\"]\n",
    "    # },\n",
    "    \n",
    "    \"bayesian\": {\n",
    "        \"priors\": [None, [0.5, 0.5], [0.4, 0.6], [0.3, 0.7], [0.2, 0.8], [0.1, 0.9], [0.05, 0.95]],\n",
    "        \"var_smoothing\": [1e-9, 1e-8, 1e-7]\n",
    "    },\n",
    "    \n",
    "    \"random_forest\": {\n",
    "        \"n_estimators\": [100, 200],\n",
    "        \"max_depth\": [10],\n",
    "        \"min_samples_split\": [2, 5],\n",
    "        \"min_samples_leaf\": [1, 2],\n",
    "        \"max_features\": [\"sqrt\", \"log2\"],\n",
    "        \"bootstrap\": [True, False]\n",
    "    },\n",
    "    \n",
    "    # \"random_forest\": {\n",
    "    #     \"n_estimators\": [50, 100, 200],\n",
    "    #     \"max_depth\": [None, 10, 20, 30],\n",
    "    #     \"min_samples_split\": [2, 5, 10],\n",
    "    #     \"min_samples_leaf\": [1, 2, 4],\n",
    "    #     \"max_features\": [\"auto\", \"sqrt\", \"log2\"],\n",
    "    #     \"bootstrap\": [True, False]\n",
    "    # },\n",
    "    \n",
    "    # \"xgboost\": {\n",
    "    #     \"n_estimators\": [100],\n",
    "    #     \"learning_rate\": [0.01, 0.1],\n",
    "    #     \"max_depth\": [6, 10]\n",
    "    # },\n",
    "    \n",
    "    # \"xgboost\": {\n",
    "    #     \"n_estimators\": [100, 200, 300],\n",
    "    #     \"learning_rate\": [0.01, 0.1, 0.2],\n",
    "    #     \"max_depth\": [3, 6, 10],\n",
    "    #     \"subsample\": [0.8, 1.0],\n",
    "    #     \"colsample_bytree\": [0.8, 1.0],\n",
    "    #     \"gamma\": [0, 0.1, 0.2]\n",
    "    # },\n",
    "    \n",
    "    \"svm\": {\n",
    "        \"kernel\": [\"linear\"],\n",
    "        \"C\": [0.001, 0.01, 0.1, 1],\n",
    "        \"gamma\": [0.1, 0.01, \"scale\", \"auto\"]\n",
    "    },\n",
    "    \n",
    "    # \"svm\": {\n",
    "    #     \"kernel\": [\"linear\", \"rbf\", \"poly\"],\n",
    "    #     \"C\": [0.1, 1, 10, 100],\n",
    "    #     \"gamma\": [0.1, 0.01, \"scale\", \"auto\"],\n",
    "    #     \"degree\": [2, 3, 4]\n",
    "    # },\n",
    "    \n",
    "    # \"logistic_regression\": {\n",
    "    #     \"penalty\": [\"l2\"],\n",
    "    #     \"C\": [0.1, 1.0],\n",
    "    #     \"max_iter\": [1000, 2000]\n",
    "    # },\n",
    "    \n",
    "    \"logistic_regression\": {\n",
    "        \"penalty\": [\"l1\", \"l2\", \"elasticnet\", None],\n",
    "        \"C\": [0.1, 1.0, 10.0],\n",
    "        \"max_iter\": [1000, 2000]\n",
    "    },\n",
    "    \n",
    "    \n",
    "    # \"hmm\": {\n",
    "    #     \"n_components\": [2],  # Keep it small\n",
    "    #     \"covariance_type\": [\"diag\"],  # Simpler covariance type\n",
    "    #     \"n_iter\": [500],  # Reduce iterations\n",
    "    #     \"init_params\": [\"stmc\"],  # Initialize start probabilities, transition matrix, and means/covariance\n",
    "    #     \"params\": [\"stmc\"]\n",
    "    # },\n",
    "    \n",
    "    # \"hmm\": {\n",
    "    #     \"n_components\": [2, 3, 4],\n",
    "    #     \"covariance_type\": [\"diag\", \"full\", \"tied\"],\n",
    "    #     \"n_iter\": [100, 200],\n",
    "    #     \"init_params\": [\"c\", \"s\", \"cs\"],\n",
    "    #     \"params\": [\"c\", \"t\", \"ct\"]\n",
    "    # },\n",
    "    \n",
    "    # \"crf\": {\n",
    "    #     \"c1\": [0.1, 0.01],  # L1 Regularization\n",
    "    #     \"c2\": [0.1, 0.01],  # L2 Regularization\n",
    "    #     \"max_iterations\": [50, 100]  # Limit iterations\n",
    "    # }\n",
    "}\n",
    "\n",
    "# Dictionary for dimensionality reduction methods\n",
    "DIMENSIONALITY_REDUCTION_DICT = {\n",
    "    \"pca\": PCA,\n",
    "    \"lda\": LDA,\n",
    "}"
   ]
  },
  {
   "cell_type": "markdown",
   "metadata": {},
   "source": [
    "# Load dataset"
   ]
  },
  {
   "cell_type": "code",
   "execution_count": 11,
   "metadata": {},
   "outputs": [],
   "source": [
    "# Load dataset\n",
    "dataset_path = os.path.join(project_root, \"data\", \"final\", \"final_clean_no_neutral_no_duplicates.csv\")\n",
    "df = pd.read_csv(dataset_path)\n"
   ]
  },
  {
   "cell_type": "code",
   "execution_count": 12,
   "metadata": {},
   "outputs": [
    {
     "data": {
      "application/vnd.microsoft.datawrangler.viewer.v0+json": {
       "columns": [
        {
         "name": "index",
         "rawType": "int64",
         "type": "integer"
        },
        {
         "name": "target",
         "rawType": "float64",
         "type": "float"
        },
        {
         "name": "text",
         "rawType": "object",
         "type": "string"
        },
        {
         "name": "text_clean",
         "rawType": "object",
         "type": "string"
        },
        {
         "name": "text_length",
         "rawType": "int64",
         "type": "integer"
        },
        {
         "name": "text_clean_length",
         "rawType": "int64",
         "type": "integer"
        }
       ],
       "conversionMethod": "pd.DataFrame",
       "ref": "fec59eb3-2198-438b-95b7-f8a34c29f39c",
       "rows": [
        [
         "0",
         "0.0",
         "@switchfoot http://twitpic.com/2y1zl - Awww, that's a bummer.  You shoulda got David Carr of Third Day to do it. ;D",
         "awww thats a bummer you shoulda got david carr of third day to do it d",
         "19",
         "16"
        ],
        [
         "1",
         "0.0",
         "is upset that he can't update his Facebook by texting it... and might cry as a result  School today also. Blah!",
         "is upset that he cant update his facebook by texting it and might cry a a result school today also blah",
         "21",
         "21"
        ],
        [
         "2",
         "0.0",
         "@Kenichan I dived many times for the ball. Managed to save 50%  The rest go out of bounds",
         "i dived many time for the ball managed to save the rest go out of bound",
         "18",
         "16"
        ],
        [
         "3",
         "0.0",
         "my whole body feels itchy and like its on fire ",
         "my whole body feel itchy and like it on fire",
         "10",
         "10"
        ],
        [
         "4",
         "0.0",
         "@nationwideclass no, it's not behaving at all. i'm mad. why am i here? because I can't see you all over there. ",
         "no it not behaving at all im mad why am i here because i cant see you all over there",
         "21",
         "20"
        ]
       ],
       "shape": {
        "columns": 5,
        "rows": 5
       }
      },
      "text/html": [
       "<div>\n",
       "<style scoped>\n",
       "    .dataframe tbody tr th:only-of-type {\n",
       "        vertical-align: middle;\n",
       "    }\n",
       "\n",
       "    .dataframe tbody tr th {\n",
       "        vertical-align: top;\n",
       "    }\n",
       "\n",
       "    .dataframe thead th {\n",
       "        text-align: right;\n",
       "    }\n",
       "</style>\n",
       "<table border=\"1\" class=\"dataframe\">\n",
       "  <thead>\n",
       "    <tr style=\"text-align: right;\">\n",
       "      <th></th>\n",
       "      <th>target</th>\n",
       "      <th>text</th>\n",
       "      <th>text_clean</th>\n",
       "      <th>text_length</th>\n",
       "      <th>text_clean_length</th>\n",
       "    </tr>\n",
       "  </thead>\n",
       "  <tbody>\n",
       "    <tr>\n",
       "      <th>0</th>\n",
       "      <td>0.0</td>\n",
       "      <td>@switchfoot http://twitpic.com/2y1zl - Awww, that's a bummer.  You shoulda got David Carr of Third Day to do it. ;D</td>\n",
       "      <td>awww thats a bummer you shoulda got david carr of third day to do it d</td>\n",
       "      <td>19</td>\n",
       "      <td>16</td>\n",
       "    </tr>\n",
       "    <tr>\n",
       "      <th>1</th>\n",
       "      <td>0.0</td>\n",
       "      <td>is upset that he can't update his Facebook by texting it... and might cry as a result  School today also. Blah!</td>\n",
       "      <td>is upset that he cant update his facebook by texting it and might cry a a result school today also blah</td>\n",
       "      <td>21</td>\n",
       "      <td>21</td>\n",
       "    </tr>\n",
       "    <tr>\n",
       "      <th>2</th>\n",
       "      <td>0.0</td>\n",
       "      <td>@Kenichan I dived many times for the ball. Managed to save 50%  The rest go out of bounds</td>\n",
       "      <td>i dived many time for the ball managed to save the rest go out of bound</td>\n",
       "      <td>18</td>\n",
       "      <td>16</td>\n",
       "    </tr>\n",
       "    <tr>\n",
       "      <th>3</th>\n",
       "      <td>0.0</td>\n",
       "      <td>my whole body feels itchy and like its on fire</td>\n",
       "      <td>my whole body feel itchy and like it on fire</td>\n",
       "      <td>10</td>\n",
       "      <td>10</td>\n",
       "    </tr>\n",
       "    <tr>\n",
       "      <th>4</th>\n",
       "      <td>0.0</td>\n",
       "      <td>@nationwideclass no, it's not behaving at all. i'm mad. why am i here? because I can't see you all over there.</td>\n",
       "      <td>no it not behaving at all im mad why am i here because i cant see you all over there</td>\n",
       "      <td>21</td>\n",
       "      <td>20</td>\n",
       "    </tr>\n",
       "  </tbody>\n",
       "</table>\n",
       "</div>"
      ],
      "text/plain": [
       "   target  \\\n",
       "0     0.0   \n",
       "1     0.0   \n",
       "2     0.0   \n",
       "3     0.0   \n",
       "4     0.0   \n",
       "\n",
       "                                                                                                                  text  \\\n",
       "0  @switchfoot http://twitpic.com/2y1zl - Awww, that's a bummer.  You shoulda got David Carr of Third Day to do it. ;D   \n",
       "1      is upset that he can't update his Facebook by texting it... and might cry as a result  School today also. Blah!   \n",
       "2                            @Kenichan I dived many times for the ball. Managed to save 50%  The rest go out of bounds   \n",
       "3                                                                      my whole body feels itchy and like its on fire    \n",
       "4      @nationwideclass no, it's not behaving at all. i'm mad. why am i here? because I can't see you all over there.    \n",
       "\n",
       "                                                                                                text_clean  \\\n",
       "0                                   awww thats a bummer you shoulda got david carr of third day to do it d   \n",
       "1  is upset that he cant update his facebook by texting it and might cry a a result school today also blah   \n",
       "2                                  i dived many time for the ball managed to save the rest go out of bound   \n",
       "3                                                             my whole body feel itchy and like it on fire   \n",
       "4                     no it not behaving at all im mad why am i here because i cant see you all over there   \n",
       "\n",
       "   text_length  text_clean_length  \n",
       "0           19                 16  \n",
       "1           21                 21  \n",
       "2           18                 16  \n",
       "3           10                 10  \n",
       "4           21                 20  "
      ]
     },
     "execution_count": 12,
     "metadata": {},
     "output_type": "execute_result"
    }
   ],
   "source": [
    "df.head()"
   ]
  },
  {
   "cell_type": "code",
   "execution_count": 13,
   "metadata": {},
   "outputs": [],
   "source": [
    "# Replace target 4 with 1\n",
    "df[\"target\"] = df[\"target\"].replace(4, 1)\n"
   ]
  },
  {
   "cell_type": "code",
   "execution_count": 14,
   "metadata": {},
   "outputs": [],
   "source": [
    "# List of feature extraction methods\n",
    "# feature_methods = [\"tfidf\", \"count\", \"binary_count\", \"word2vec\", \"glove\", \"bert\"]\n",
    "\n",
    "feature_methods = [\"tfidf\", \"count\", \"word2vec\", \"glove\"]\n",
    "\n",
    "X_train_features_dict = {}\n",
    "X_test_features_dict = {}"
   ]
  },
  {
   "cell_type": "code",
   "execution_count": 15,
   "metadata": {},
   "outputs": [
    {
     "name": "stdout",
     "output_type": "stream",
     "text": [
      "\n",
      "🔎 Running feature extraction...\n",
      "\n"
     ]
    },
    {
     "name": "stderr",
     "output_type": "stream",
     "text": [
      "Feature Extraction Progress:   0%|          | 0/4 [00:00<?, ?it/s]"
     ]
    },
    {
     "name": "stdout",
     "output_type": "stream",
     "text": [
      "\n",
      "🔍 Processing feature extraction using: tfidf...\n",
      "✅ tfidf - Dataset shape: (1000, 2000)\n",
      "\n",
      "🔍 Processing feature extraction using: count...\n",
      "✅ count - Dataset shape: (1000, 2000)\n"
     ]
    },
    {
     "name": "stderr",
     "output_type": "stream",
     "text": [
      "Feature Extraction Progress:  50%|█████     | 2/4 [00:00<00:00, 10.39it/s]"
     ]
    },
    {
     "name": "stdout",
     "output_type": "stream",
     "text": [
      "\n",
      "🔍 Processing feature extraction using: word2vec...\n"
     ]
    },
    {
     "name": "stderr",
     "output_type": "stream",
     "text": [
      "Processing Word2Vec: 100%|██████████| 1000/1000 [00:00<00:00, 11229.10document/s]\n",
      "Feature Extraction Progress:  75%|███████▌  | 3/4 [02:28<01:01, 61.65s/it]"
     ]
    },
    {
     "name": "stdout",
     "output_type": "stream",
     "text": [
      "✅ word2vec - Dataset shape: (1000, 300)\n",
      "\n",
      "🔍 Processing feature extraction using: glove...\n"
     ]
    },
    {
     "name": "stderr",
     "output_type": "stream",
     "text": [
      "Processing GloVe: 100%|██████████| 1000/1000 [00:00<00:00, 11905.12document/s]\n",
      "Feature Extraction Progress: 100%|██████████| 4/4 [03:48<00:00, 57.17s/it]"
     ]
    },
    {
     "name": "stdout",
     "output_type": "stream",
     "text": [
      "✅ glove - Dataset shape: (1000, 100)\n"
     ]
    },
    {
     "name": "stderr",
     "output_type": "stream",
     "text": [
      "\n"
     ]
    }
   ],
   "source": [
    "# Sample exactly 1,000 random entries from the dataset\n",
    "df_sampled = df.sample(n=1000, random_state=42)\n",
    "\n",
    "print(\"\\n🔎 Running feature extraction...\\n\")\n",
    "for method in tqdm(feature_methods, desc=\"Feature Extraction Progress\"):\n",
    "    print(f\"\\n🔍 Processing feature extraction using: {method}...\")\n",
    "\n",
    "    try:\n",
    "        # Initialize FeatureBuilder\n",
    "        feature_builder = FeatureBuilder(method=method, save_dir=os.path.join(project_root, \"data\", \"processed\"), reduce_dim=None, n_components=50)\n",
    "\n",
    "        # Fit and transform training data\n",
    "        dataset_features = feature_builder.fit_transform(df_sampled[\"text_clean\"].tolist())\n",
    "        print(f\"✅ {method} - Dataset shape: {dataset_features.shape}\")\n",
    "        \n",
    "        X_train, X_test, y_train, y_test = train_test_split(\n",
    "            dataset_features, df_sampled[\"target\"], test_size=0.2, random_state=42\n",
    "        )\n",
    "        \n",
    "        X_train_features_dict[method] = pd.DataFrame(X_train)\n",
    "        X_test_features_dict[method] = pd.DataFrame(X_test)\n",
    "\n",
    "    except Exception as e:\n",
    "        print(f\"❌ Error with {method}: {e}\")"
   ]
  },
  {
   "cell_type": "markdown",
   "metadata": {},
   "source": [
    "# Model chosen"
   ]
  },
  {
   "cell_type": "markdown",
   "metadata": {},
   "source": [
    "## Decision Tree"
   ]
  },
  {
   "cell_type": "code",
   "execution_count": 17,
   "metadata": {},
   "outputs": [
    {
     "name": "stdout",
     "output_type": "stream",
     "text": [
      "\n",
      "🔎 Running feature extraction and model training loop...\n",
      "\n"
     ]
    },
    {
     "name": "stderr",
     "output_type": "stream",
     "text": [
      "Feature Extraction Progress:   0%|          | 0/4 [00:00<?, ?it/s]"
     ]
    },
    {
     "name": "stdout",
     "output_type": "stream",
     "text": [
      "\n",
      "🔍 Processing feature extraction using: tfidf...\n",
      "🚀 Training new model: DecisionTreeClassifier...\n",
      "Best hyperparameters: {'criterion': 'gini', 'max_depth': 40, 'max_features': 'sqrt', 'min_samples_leaf': 2, 'min_samples_split': 10}\n",
      "\n",
      "🎯 Running K-Fold Cross-Validation...\n"
     ]
    },
    {
     "name": "stderr",
     "output_type": "stream",
     "text": [
      "K-Fold Progress: 100%|██████████| 5/5 [00:01<00:00,  3.02it/s]\n"
     ]
    },
    {
     "name": "stdout",
     "output_type": "stream",
     "text": [
      "📊 Average Accuracy: 60%\n",
      "📊 Average ROC AUC: 59%\n",
      "📊 Average F1 Score: 70%\n",
      "📊 Average Precision: 58%\n",
      "📊 Average Recall: 87%\n",
      "💾 Model saved to best_decision_tree_tfidf.pkl\n",
      "📈 Plot saved to best_decision_tree_tfidf.png\n"
     ]
    },
    {
     "name": "stderr",
     "output_type": "stream",
     "text": [
      "Feature Extraction Progress:  25%|██▌       | 1/4 [02:38<07:56, 158.79s/it]"
     ]
    },
    {
     "name": "stdout",
     "output_type": "stream",
     "text": [
      "📉 Loss plot saved to best_decision_tree_tfidf_loss.png\n",
      "\n",
      "🔍 Processing feature extraction using: count...\n",
      "🚀 Training new model: DecisionTreeClassifier...\n"
     ]
    },
    {
     "name": "stderr",
     "output_type": "stream",
     "text": [
      "e:\\anaconda3\\envs\\ml_env_test\\Lib\\site-packages\\numpy\\ma\\core.py:2820: RuntimeWarning: invalid value encountered in cast\n",
      "  _data = np.array(data, dtype=dtype, copy=copy,\n"
     ]
    },
    {
     "name": "stdout",
     "output_type": "stream",
     "text": [
      "Best hyperparameters: {'criterion': 'gini', 'max_depth': 30, 'max_features': 'sqrt', 'min_samples_leaf': 2, 'min_samples_split': 10}\n",
      "\n",
      "🎯 Running K-Fold Cross-Validation...\n"
     ]
    },
    {
     "name": "stderr",
     "output_type": "stream",
     "text": [
      "K-Fold Progress: 100%|██████████| 5/5 [00:00<00:00,  5.05it/s]\n"
     ]
    },
    {
     "name": "stdout",
     "output_type": "stream",
     "text": [
      "📊 Average Accuracy: 57%\n",
      "📊 Average ROC AUC: 57%\n",
      "📊 Average F1 Score: 62%\n",
      "📊 Average Precision: 58%\n",
      "📊 Average Recall: 73%\n",
      "💾 Model saved to best_decision_tree_count.pkl\n",
      "📈 Plot saved to best_decision_tree_count.png\n"
     ]
    },
    {
     "name": "stderr",
     "output_type": "stream",
     "text": [
      "Feature Extraction Progress:  50%|█████     | 2/4 [04:32<04:24, 132.36s/it]"
     ]
    },
    {
     "name": "stdout",
     "output_type": "stream",
     "text": [
      "📉 Loss plot saved to best_decision_tree_count_loss.png\n",
      "\n",
      "🔍 Processing feature extraction using: word2vec...\n",
      "🚀 Training new model: DecisionTreeClassifier...\n"
     ]
    },
    {
     "name": "stderr",
     "output_type": "stream",
     "text": [
      "e:\\anaconda3\\envs\\ml_env_test\\Lib\\site-packages\\numpy\\ma\\core.py:2820: RuntimeWarning: invalid value encountered in cast\n",
      "  _data = np.array(data, dtype=dtype, copy=copy,\n"
     ]
    },
    {
     "name": "stdout",
     "output_type": "stream",
     "text": [
      "Best hyperparameters: {'criterion': 'entropy', 'max_depth': 30, 'max_features': 'sqrt', 'min_samples_leaf': 1, 'min_samples_split': 5}\n",
      "\n",
      "🎯 Running K-Fold Cross-Validation...\n"
     ]
    },
    {
     "name": "stderr",
     "output_type": "stream",
     "text": [
      "K-Fold Progress: 100%|██████████| 5/5 [00:02<00:00,  1.79it/s]\n"
     ]
    },
    {
     "name": "stdout",
     "output_type": "stream",
     "text": [
      "📊 Average Accuracy: 53%\n",
      "📊 Average ROC AUC: 52%\n",
      "📊 Average F1 Score: 55%\n",
      "📊 Average Precision: 55%\n",
      "📊 Average Recall: 55%\n",
      "💾 Model saved to best_decision_tree_word2vec.pkl\n",
      "📈 Plot saved to best_decision_tree_word2vec.png\n"
     ]
    },
    {
     "name": "stderr",
     "output_type": "stream",
     "text": [
      "Feature Extraction Progress:  75%|███████▌  | 3/4 [05:17<01:32, 92.53s/it] "
     ]
    },
    {
     "name": "stdout",
     "output_type": "stream",
     "text": [
      "📉 Loss plot saved to best_decision_tree_word2vec_loss.png\n",
      "\n",
      "🔍 Processing feature extraction using: glove...\n",
      "🚀 Training new model: DecisionTreeClassifier...\n"
     ]
    },
    {
     "name": "stderr",
     "output_type": "stream",
     "text": [
      "e:\\anaconda3\\envs\\ml_env_test\\Lib\\site-packages\\numpy\\ma\\core.py:2820: RuntimeWarning: invalid value encountered in cast\n",
      "  _data = np.array(data, dtype=dtype, copy=copy,\n"
     ]
    },
    {
     "name": "stdout",
     "output_type": "stream",
     "text": [
      "Best hyperparameters: {'criterion': 'entropy', 'max_depth': 20, 'max_features': 'log2', 'min_samples_leaf': 4, 'min_samples_split': 2}\n",
      "\n",
      "🎯 Running K-Fold Cross-Validation...\n"
     ]
    },
    {
     "name": "stderr",
     "output_type": "stream",
     "text": [
      "K-Fold Progress: 100%|██████████| 5/5 [00:00<00:00,  7.10it/s]\n"
     ]
    },
    {
     "name": "stdout",
     "output_type": "stream",
     "text": [
      "📊 Average Accuracy: 54%\n",
      "📊 Average ROC AUC: 54%\n",
      "📊 Average F1 Score: 55%\n",
      "📊 Average Precision: 57%\n",
      "📊 Average Recall: 53%\n",
      "💾 Model saved to best_decision_tree_glove.pkl\n",
      "📈 Plot saved to best_decision_tree_glove.png\n"
     ]
    },
    {
     "name": "stderr",
     "output_type": "stream",
     "text": [
      "Feature Extraction Progress: 100%|██████████| 4/4 [05:52<00:00, 88.21s/it]"
     ]
    },
    {
     "name": "stdout",
     "output_type": "stream",
     "text": [
      "📉 Loss plot saved to best_decision_tree_glove_loss.png\n"
     ]
    },
    {
     "name": "stderr",
     "output_type": "stream",
     "text": [
      "\n"
     ]
    }
   ],
   "source": [
    "print(\"\\n🔎 Running feature extraction and model training loop...\\n\")\n",
    "for method in tqdm(feature_methods, desc=\"Feature Extraction Progress\"):\n",
    "    print(f\"\\n🔍 Processing feature extraction using: {method}...\")\n",
    "\n",
    "    try:\n",
    "        model_name = \"decision_tree\"\n",
    "        \n",
    "        # Retrieve Decision Tree model and hyperparameters\n",
    "        decision_tree_algorithm = MODEL_DICT[model_name]()\n",
    "        decision_tree_params = MODEL_PARAMS[model_name]\n",
    "\n",
    "        # Train or load model\n",
    "        trained_model = generate_binary_classification_model(\n",
    "            X=X_train_features_dict[method], \n",
    "            y=y_train, \n",
    "            model_algorithm=decision_tree_algorithm, \n",
    "            hyperparameters=decision_tree_params, \n",
    "            needs_scaled=False, \n",
    "            model_save_path=f\"best_{model_name}_{method}.pkl\",\n",
    "            img_save_path=f\"best_{model_name}_{method}.png\",\n",
    "            img_loss_path=f\"best_{model_name}_{method}_loss.png\"\n",
    "        )\n",
    "\n",
    "    except Exception as e:\n",
    "        print(f\"❌ Error with {method}: {e}\")"
   ]
  },
  {
   "cell_type": "markdown",
   "metadata": {},
   "source": [
    "## Logistic Regression"
   ]
  },
  {
   "cell_type": "code",
   "execution_count": 13,
   "metadata": {},
   "outputs": [
    {
     "name": "stdout",
     "output_type": "stream",
     "text": [
      "\n",
      "🔎 Running feature extraction and model training loop...\n",
      "\n"
     ]
    },
    {
     "name": "stderr",
     "output_type": "stream",
     "text": [
      "Feature Extraction Progress:   0%|          | 0/4 [00:00<?, ?it/s]"
     ]
    },
    {
     "name": "stdout",
     "output_type": "stream",
     "text": [
      "\n",
      "🔍 Processing feature extraction using: tfidf...\n",
      "🚀 Training new model: LogisticRegression...\n"
     ]
    },
    {
     "name": "stderr",
     "output_type": "stream",
     "text": [
      "e:\\anaconda3\\envs\\ml_env_test\\Lib\\site-packages\\sklearn\\linear_model\\_logistic.py:1208: UserWarning: Setting penalty=None will ignore the C and l1_ratio parameters\n",
      "  warnings.warn(\n",
      "e:\\anaconda3\\envs\\ml_env_test\\Lib\\site-packages\\sklearn\\linear_model\\_logistic.py:1208: UserWarning: Setting penalty=None will ignore the C and l1_ratio parameters\n",
      "  warnings.warn(\n",
      "e:\\anaconda3\\envs\\ml_env_test\\Lib\\site-packages\\sklearn\\linear_model\\_logistic.py:1208: UserWarning: Setting penalty=None will ignore the C and l1_ratio parameters\n",
      "  warnings.warn(\n",
      "e:\\anaconda3\\envs\\ml_env_test\\Lib\\site-packages\\sklearn\\linear_model\\_logistic.py:1208: UserWarning: Setting penalty=None will ignore the C and l1_ratio parameters\n",
      "  warnings.warn(\n",
      "e:\\anaconda3\\envs\\ml_env_test\\Lib\\site-packages\\sklearn\\linear_model\\_logistic.py:1208: UserWarning: Setting penalty=None will ignore the C and l1_ratio parameters\n",
      "  warnings.warn(\n",
      "e:\\anaconda3\\envs\\ml_env_test\\Lib\\site-packages\\sklearn\\linear_model\\_logistic.py:1208: UserWarning: Setting penalty=None will ignore the C and l1_ratio parameters\n",
      "  warnings.warn(\n",
      "e:\\anaconda3\\envs\\ml_env_test\\Lib\\site-packages\\sklearn\\linear_model\\_logistic.py:1208: UserWarning: Setting penalty=None will ignore the C and l1_ratio parameters\n",
      "  warnings.warn(\n",
      "e:\\anaconda3\\envs\\ml_env_test\\Lib\\site-packages\\sklearn\\linear_model\\_logistic.py:1208: UserWarning: Setting penalty=None will ignore the C and l1_ratio parameters\n",
      "  warnings.warn(\n",
      "e:\\anaconda3\\envs\\ml_env_test\\Lib\\site-packages\\sklearn\\linear_model\\_logistic.py:1208: UserWarning: Setting penalty=None will ignore the C and l1_ratio parameters\n",
      "  warnings.warn(\n",
      "e:\\anaconda3\\envs\\ml_env_test\\Lib\\site-packages\\sklearn\\linear_model\\_logistic.py:1208: UserWarning: Setting penalty=None will ignore the C and l1_ratio parameters\n",
      "  warnings.warn(\n",
      "e:\\anaconda3\\envs\\ml_env_test\\Lib\\site-packages\\sklearn\\linear_model\\_logistic.py:1208: UserWarning: Setting penalty=None will ignore the C and l1_ratio parameters\n",
      "  warnings.warn(\n",
      "e:\\anaconda3\\envs\\ml_env_test\\Lib\\site-packages\\sklearn\\linear_model\\_logistic.py:1208: UserWarning: Setting penalty=None will ignore the C and l1_ratio parameters\n",
      "  warnings.warn(\n",
      "e:\\anaconda3\\envs\\ml_env_test\\Lib\\site-packages\\sklearn\\linear_model\\_logistic.py:1208: UserWarning: Setting penalty=None will ignore the C and l1_ratio parameters\n",
      "  warnings.warn(\n",
      "e:\\anaconda3\\envs\\ml_env_test\\Lib\\site-packages\\sklearn\\linear_model\\_logistic.py:1208: UserWarning: Setting penalty=None will ignore the C and l1_ratio parameters\n",
      "  warnings.warn(\n",
      "e:\\anaconda3\\envs\\ml_env_test\\Lib\\site-packages\\sklearn\\linear_model\\_logistic.py:1208: UserWarning: Setting penalty=None will ignore the C and l1_ratio parameters\n",
      "  warnings.warn(\n",
      "e:\\anaconda3\\envs\\ml_env_test\\Lib\\site-packages\\sklearn\\linear_model\\_logistic.py:1208: UserWarning: Setting penalty=None will ignore the C and l1_ratio parameters\n",
      "  warnings.warn(\n",
      "e:\\anaconda3\\envs\\ml_env_test\\Lib\\site-packages\\sklearn\\linear_model\\_logistic.py:1208: UserWarning: Setting penalty=None will ignore the C and l1_ratio parameters\n",
      "  warnings.warn(\n",
      "e:\\anaconda3\\envs\\ml_env_test\\Lib\\site-packages\\sklearn\\linear_model\\_logistic.py:1208: UserWarning: Setting penalty=None will ignore the C and l1_ratio parameters\n",
      "  warnings.warn(\n",
      "e:\\anaconda3\\envs\\ml_env_test\\Lib\\site-packages\\sklearn\\linear_model\\_logistic.py:1208: UserWarning: Setting penalty=None will ignore the C and l1_ratio parameters\n",
      "  warnings.warn(\n",
      "e:\\anaconda3\\envs\\ml_env_test\\Lib\\site-packages\\sklearn\\linear_model\\_logistic.py:1208: UserWarning: Setting penalty=None will ignore the C and l1_ratio parameters\n",
      "  warnings.warn(\n",
      "e:\\anaconda3\\envs\\ml_env_test\\Lib\\site-packages\\sklearn\\model_selection\\_validation.py:540: FitFailedWarning: \n",
      "60 fits failed out of a total of 120.\n",
      "The score on these train-test partitions for these parameters will be set to nan.\n",
      "If these failures are not expected, you can try to debug them by setting error_score='raise'.\n",
      "\n",
      "Below are more details about the failures:\n",
      "--------------------------------------------------------------------------------\n",
      "30 fits failed with the following error:\n",
      "Traceback (most recent call last):\n",
      "  File \"e:\\anaconda3\\envs\\ml_env_test\\Lib\\site-packages\\sklearn\\model_selection\\_validation.py\", line 888, in _fit_and_score\n",
      "    estimator.fit(X_train, y_train, **fit_params)\n",
      "  File \"e:\\anaconda3\\envs\\ml_env_test\\Lib\\site-packages\\sklearn\\base.py\", line 1473, in wrapper\n",
      "    return fit_method(estimator, *args, **kwargs)\n",
      "           ^^^^^^^^^^^^^^^^^^^^^^^^^^^^^^^^^^^^^^\n",
      "  File \"e:\\anaconda3\\envs\\ml_env_test\\Lib\\site-packages\\sklearn\\linear_model\\_logistic.py\", line 1194, in fit\n",
      "    solver = _check_solver(self.solver, self.penalty, self.dual)\n",
      "             ^^^^^^^^^^^^^^^^^^^^^^^^^^^^^^^^^^^^^^^^^^^^^^^^^^^\n",
      "  File \"e:\\anaconda3\\envs\\ml_env_test\\Lib\\site-packages\\sklearn\\linear_model\\_logistic.py\", line 67, in _check_solver\n",
      "    raise ValueError(\n",
      "ValueError: Solver lbfgs supports only 'l2' or None penalties, got l1 penalty.\n",
      "\n",
      "--------------------------------------------------------------------------------\n",
      "30 fits failed with the following error:\n",
      "Traceback (most recent call last):\n",
      "  File \"e:\\anaconda3\\envs\\ml_env_test\\Lib\\site-packages\\sklearn\\model_selection\\_validation.py\", line 888, in _fit_and_score\n",
      "    estimator.fit(X_train, y_train, **fit_params)\n",
      "  File \"e:\\anaconda3\\envs\\ml_env_test\\Lib\\site-packages\\sklearn\\base.py\", line 1473, in wrapper\n",
      "    return fit_method(estimator, *args, **kwargs)\n",
      "           ^^^^^^^^^^^^^^^^^^^^^^^^^^^^^^^^^^^^^^\n",
      "  File \"e:\\anaconda3\\envs\\ml_env_test\\Lib\\site-packages\\sklearn\\linear_model\\_logistic.py\", line 1194, in fit\n",
      "    solver = _check_solver(self.solver, self.penalty, self.dual)\n",
      "             ^^^^^^^^^^^^^^^^^^^^^^^^^^^^^^^^^^^^^^^^^^^^^^^^^^^\n",
      "  File \"e:\\anaconda3\\envs\\ml_env_test\\Lib\\site-packages\\sklearn\\linear_model\\_logistic.py\", line 67, in _check_solver\n",
      "    raise ValueError(\n",
      "ValueError: Solver lbfgs supports only 'l2' or None penalties, got elasticnet penalty.\n",
      "\n",
      "  warnings.warn(some_fits_failed_message, FitFailedWarning)\n",
      "e:\\anaconda3\\envs\\ml_env_test\\Lib\\site-packages\\sklearn\\model_selection\\_search.py:1103: UserWarning: One or more of the test scores are non-finite: [    nan 0.54875     nan 0.59625     nan 0.54875     nan 0.59625     nan\n",
      " 0.63        nan 0.59625     nan 0.63        nan 0.59625     nan 0.6175\n",
      "     nan 0.59625     nan 0.6175      nan 0.59625]\n",
      "  warnings.warn(\n"
     ]
    },
    {
     "name": "stdout",
     "output_type": "stream",
     "text": [
      "Best hyperparameters: {'C': 1.0, 'max_iter': 1000, 'penalty': 'l2'}\n",
      "\n",
      "🎯 Running K-Fold Cross-Validation...\n"
     ]
    },
    {
     "name": "stderr",
     "output_type": "stream",
     "text": [
      "K-Fold Progress: 100%|██████████| 5/5 [00:01<00:00,  2.62it/s]\n"
     ]
    },
    {
     "name": "stdout",
     "output_type": "stream",
     "text": [
      "📊 Average Accuracy: 64%\n",
      "📊 Average ROC AUC: 64%\n",
      "📊 Average F1 Score: 69%\n",
      "📊 Average Precision: 63%\n",
      "📊 Average Recall: 78%\n",
      "💾 Model saved to best_logistic_regression_tfidf.pkl\n",
      "📈 Plot saved to best_logistic_regression_tfidf.png\n"
     ]
    },
    {
     "name": "stderr",
     "output_type": "stream",
     "text": [
      "Feature Extraction Progress:  25%|██▌       | 1/4 [00:22<01:07, 22.66s/it]"
     ]
    },
    {
     "name": "stdout",
     "output_type": "stream",
     "text": [
      "📉 Loss plot saved to best_logistic_regression_tfidf_loss.png\n",
      "\n",
      "🔍 Processing feature extraction using: count...\n",
      "🚀 Training new model: LogisticRegression...\n"
     ]
    },
    {
     "name": "stderr",
     "output_type": "stream",
     "text": [
      "e:\\anaconda3\\envs\\ml_env_test\\Lib\\site-packages\\sklearn\\linear_model\\_logistic.py:1208: UserWarning: Setting penalty=None will ignore the C and l1_ratio parameters\n",
      "  warnings.warn(\n",
      "e:\\anaconda3\\envs\\ml_env_test\\Lib\\site-packages\\sklearn\\linear_model\\_logistic.py:1208: UserWarning: Setting penalty=None will ignore the C and l1_ratio parameters\n",
      "  warnings.warn(\n",
      "e:\\anaconda3\\envs\\ml_env_test\\Lib\\site-packages\\sklearn\\linear_model\\_logistic.py:1208: UserWarning: Setting penalty=None will ignore the C and l1_ratio parameters\n",
      "  warnings.warn(\n",
      "e:\\anaconda3\\envs\\ml_env_test\\Lib\\site-packages\\sklearn\\linear_model\\_logistic.py:1208: UserWarning: Setting penalty=None will ignore the C and l1_ratio parameters\n",
      "  warnings.warn(\n",
      "e:\\anaconda3\\envs\\ml_env_test\\Lib\\site-packages\\sklearn\\linear_model\\_logistic.py:1208: UserWarning: Setting penalty=None will ignore the C and l1_ratio parameters\n",
      "  warnings.warn(\n",
      "e:\\anaconda3\\envs\\ml_env_test\\Lib\\site-packages\\sklearn\\linear_model\\_logistic.py:1208: UserWarning: Setting penalty=None will ignore the C and l1_ratio parameters\n",
      "  warnings.warn(\n",
      "e:\\anaconda3\\envs\\ml_env_test\\Lib\\site-packages\\sklearn\\linear_model\\_logistic.py:1208: UserWarning: Setting penalty=None will ignore the C and l1_ratio parameters\n",
      "  warnings.warn(\n",
      "e:\\anaconda3\\envs\\ml_env_test\\Lib\\site-packages\\sklearn\\linear_model\\_logistic.py:1208: UserWarning: Setting penalty=None will ignore the C and l1_ratio parameters\n",
      "  warnings.warn(\n",
      "e:\\anaconda3\\envs\\ml_env_test\\Lib\\site-packages\\sklearn\\linear_model\\_logistic.py:1208: UserWarning: Setting penalty=None will ignore the C and l1_ratio parameters\n",
      "  warnings.warn(\n",
      "e:\\anaconda3\\envs\\ml_env_test\\Lib\\site-packages\\sklearn\\linear_model\\_logistic.py:1208: UserWarning: Setting penalty=None will ignore the C and l1_ratio parameters\n",
      "  warnings.warn(\n",
      "e:\\anaconda3\\envs\\ml_env_test\\Lib\\site-packages\\sklearn\\linear_model\\_logistic.py:1208: UserWarning: Setting penalty=None will ignore the C and l1_ratio parameters\n",
      "  warnings.warn(\n",
      "e:\\anaconda3\\envs\\ml_env_test\\Lib\\site-packages\\sklearn\\linear_model\\_logistic.py:1208: UserWarning: Setting penalty=None will ignore the C and l1_ratio parameters\n",
      "  warnings.warn(\n",
      "e:\\anaconda3\\envs\\ml_env_test\\Lib\\site-packages\\sklearn\\linear_model\\_logistic.py:1208: UserWarning: Setting penalty=None will ignore the C and l1_ratio parameters\n",
      "  warnings.warn(\n",
      "e:\\anaconda3\\envs\\ml_env_test\\Lib\\site-packages\\sklearn\\linear_model\\_logistic.py:1208: UserWarning: Setting penalty=None will ignore the C and l1_ratio parameters\n",
      "  warnings.warn(\n",
      "e:\\anaconda3\\envs\\ml_env_test\\Lib\\site-packages\\sklearn\\linear_model\\_logistic.py:1208: UserWarning: Setting penalty=None will ignore the C and l1_ratio parameters\n",
      "  warnings.warn(\n",
      "e:\\anaconda3\\envs\\ml_env_test\\Lib\\site-packages\\sklearn\\linear_model\\_logistic.py:1208: UserWarning: Setting penalty=None will ignore the C and l1_ratio parameters\n",
      "  warnings.warn(\n",
      "e:\\anaconda3\\envs\\ml_env_test\\Lib\\site-packages\\sklearn\\linear_model\\_logistic.py:1208: UserWarning: Setting penalty=None will ignore the C and l1_ratio parameters\n",
      "  warnings.warn(\n",
      "e:\\anaconda3\\envs\\ml_env_test\\Lib\\site-packages\\sklearn\\linear_model\\_logistic.py:1208: UserWarning: Setting penalty=None will ignore the C and l1_ratio parameters\n",
      "  warnings.warn(\n",
      "e:\\anaconda3\\envs\\ml_env_test\\Lib\\site-packages\\sklearn\\linear_model\\_logistic.py:1208: UserWarning: Setting penalty=None will ignore the C and l1_ratio parameters\n",
      "  warnings.warn(\n",
      "e:\\anaconda3\\envs\\ml_env_test\\Lib\\site-packages\\sklearn\\linear_model\\_logistic.py:1208: UserWarning: Setting penalty=None will ignore the C and l1_ratio parameters\n",
      "  warnings.warn(\n",
      "e:\\anaconda3\\envs\\ml_env_test\\Lib\\site-packages\\sklearn\\model_selection\\_validation.py:540: FitFailedWarning: \n",
      "60 fits failed out of a total of 120.\n",
      "The score on these train-test partitions for these parameters will be set to nan.\n",
      "If these failures are not expected, you can try to debug them by setting error_score='raise'.\n",
      "\n",
      "Below are more details about the failures:\n",
      "--------------------------------------------------------------------------------\n",
      "30 fits failed with the following error:\n",
      "Traceback (most recent call last):\n",
      "  File \"e:\\anaconda3\\envs\\ml_env_test\\Lib\\site-packages\\sklearn\\model_selection\\_validation.py\", line 888, in _fit_and_score\n",
      "    estimator.fit(X_train, y_train, **fit_params)\n",
      "  File \"e:\\anaconda3\\envs\\ml_env_test\\Lib\\site-packages\\sklearn\\base.py\", line 1473, in wrapper\n",
      "    return fit_method(estimator, *args, **kwargs)\n",
      "           ^^^^^^^^^^^^^^^^^^^^^^^^^^^^^^^^^^^^^^\n",
      "  File \"e:\\anaconda3\\envs\\ml_env_test\\Lib\\site-packages\\sklearn\\linear_model\\_logistic.py\", line 1194, in fit\n",
      "    solver = _check_solver(self.solver, self.penalty, self.dual)\n",
      "             ^^^^^^^^^^^^^^^^^^^^^^^^^^^^^^^^^^^^^^^^^^^^^^^^^^^\n",
      "  File \"e:\\anaconda3\\envs\\ml_env_test\\Lib\\site-packages\\sklearn\\linear_model\\_logistic.py\", line 67, in _check_solver\n",
      "    raise ValueError(\n",
      "ValueError: Solver lbfgs supports only 'l2' or None penalties, got l1 penalty.\n",
      "\n",
      "--------------------------------------------------------------------------------\n",
      "30 fits failed with the following error:\n",
      "Traceback (most recent call last):\n",
      "  File \"e:\\anaconda3\\envs\\ml_env_test\\Lib\\site-packages\\sklearn\\model_selection\\_validation.py\", line 888, in _fit_and_score\n",
      "    estimator.fit(X_train, y_train, **fit_params)\n",
      "  File \"e:\\anaconda3\\envs\\ml_env_test\\Lib\\site-packages\\sklearn\\base.py\", line 1473, in wrapper\n",
      "    return fit_method(estimator, *args, **kwargs)\n",
      "           ^^^^^^^^^^^^^^^^^^^^^^^^^^^^^^^^^^^^^^\n",
      "  File \"e:\\anaconda3\\envs\\ml_env_test\\Lib\\site-packages\\sklearn\\linear_model\\_logistic.py\", line 1194, in fit\n",
      "    solver = _check_solver(self.solver, self.penalty, self.dual)\n",
      "             ^^^^^^^^^^^^^^^^^^^^^^^^^^^^^^^^^^^^^^^^^^^^^^^^^^^\n",
      "  File \"e:\\anaconda3\\envs\\ml_env_test\\Lib\\site-packages\\sklearn\\linear_model\\_logistic.py\", line 67, in _check_solver\n",
      "    raise ValueError(\n",
      "ValueError: Solver lbfgs supports only 'l2' or None penalties, got elasticnet penalty.\n",
      "\n",
      "  warnings.warn(some_fits_failed_message, FitFailedWarning)\n",
      "e:\\anaconda3\\envs\\ml_env_test\\Lib\\site-packages\\sklearn\\model_selection\\_search.py:1103: UserWarning: One or more of the test scores are non-finite: [    nan 0.65125     nan 0.64375     nan 0.65125     nan 0.64375     nan\n",
      " 0.66125     nan 0.64375     nan 0.66125     nan 0.64375     nan 0.6525\n",
      "     nan 0.64375     nan 0.6525      nan 0.64375]\n",
      "  warnings.warn(\n"
     ]
    },
    {
     "name": "stdout",
     "output_type": "stream",
     "text": [
      "Best hyperparameters: {'C': 1.0, 'max_iter': 1000, 'penalty': 'l2'}\n",
      "\n",
      "🎯 Running K-Fold Cross-Validation...\n"
     ]
    },
    {
     "name": "stderr",
     "output_type": "stream",
     "text": [
      "K-Fold Progress: 100%|██████████| 5/5 [00:02<00:00,  2.14it/s]\n"
     ]
    },
    {
     "name": "stdout",
     "output_type": "stream",
     "text": [
      "📊 Average Accuracy: 66%\n",
      "📊 Average ROC AUC: 65%\n",
      "📊 Average F1 Score: 68%\n",
      "📊 Average Precision: 66%\n",
      "📊 Average Recall: 70%\n",
      "💾 Model saved to best_logistic_regression_count.pkl\n",
      "📈 Plot saved to best_logistic_regression_count.png\n"
     ]
    },
    {
     "name": "stderr",
     "output_type": "stream",
     "text": [
      "Feature Extraction Progress:  50%|█████     | 2/4 [00:41<00:40, 20.40s/it]"
     ]
    },
    {
     "name": "stdout",
     "output_type": "stream",
     "text": [
      "📉 Loss plot saved to best_logistic_regression_count_loss.png\n",
      "\n",
      "🔍 Processing feature extraction using: word2vec...\n",
      "🚀 Training new model: LogisticRegression...\n"
     ]
    },
    {
     "name": "stderr",
     "output_type": "stream",
     "text": [
      "e:\\anaconda3\\envs\\ml_env_test\\Lib\\site-packages\\sklearn\\linear_model\\_logistic.py:1208: UserWarning: Setting penalty=None will ignore the C and l1_ratio parameters\n",
      "  warnings.warn(\n",
      "e:\\anaconda3\\envs\\ml_env_test\\Lib\\site-packages\\sklearn\\linear_model\\_logistic.py:1208: UserWarning: Setting penalty=None will ignore the C and l1_ratio parameters\n",
      "  warnings.warn(\n",
      "e:\\anaconda3\\envs\\ml_env_test\\Lib\\site-packages\\sklearn\\linear_model\\_logistic.py:1208: UserWarning: Setting penalty=None will ignore the C and l1_ratio parameters\n",
      "  warnings.warn(\n",
      "e:\\anaconda3\\envs\\ml_env_test\\Lib\\site-packages\\sklearn\\linear_model\\_logistic.py:1208: UserWarning: Setting penalty=None will ignore the C and l1_ratio parameters\n",
      "  warnings.warn(\n",
      "e:\\anaconda3\\envs\\ml_env_test\\Lib\\site-packages\\sklearn\\linear_model\\_logistic.py:1208: UserWarning: Setting penalty=None will ignore the C and l1_ratio parameters\n",
      "  warnings.warn(\n",
      "e:\\anaconda3\\envs\\ml_env_test\\Lib\\site-packages\\sklearn\\linear_model\\_logistic.py:1208: UserWarning: Setting penalty=None will ignore the C and l1_ratio parameters\n",
      "  warnings.warn(\n",
      "e:\\anaconda3\\envs\\ml_env_test\\Lib\\site-packages\\sklearn\\linear_model\\_logistic.py:1208: UserWarning: Setting penalty=None will ignore the C and l1_ratio parameters\n",
      "  warnings.warn(\n",
      "e:\\anaconda3\\envs\\ml_env_test\\Lib\\site-packages\\sklearn\\linear_model\\_logistic.py:1208: UserWarning: Setting penalty=None will ignore the C and l1_ratio parameters\n",
      "  warnings.warn(\n",
      "e:\\anaconda3\\envs\\ml_env_test\\Lib\\site-packages\\sklearn\\linear_model\\_logistic.py:1208: UserWarning: Setting penalty=None will ignore the C and l1_ratio parameters\n",
      "  warnings.warn(\n",
      "e:\\anaconda3\\envs\\ml_env_test\\Lib\\site-packages\\sklearn\\linear_model\\_logistic.py:1208: UserWarning: Setting penalty=None will ignore the C and l1_ratio parameters\n",
      "  warnings.warn(\n",
      "e:\\anaconda3\\envs\\ml_env_test\\Lib\\site-packages\\sklearn\\linear_model\\_logistic.py:1208: UserWarning: Setting penalty=None will ignore the C and l1_ratio parameters\n",
      "  warnings.warn(\n",
      "e:\\anaconda3\\envs\\ml_env_test\\Lib\\site-packages\\sklearn\\linear_model\\_logistic.py:1208: UserWarning: Setting penalty=None will ignore the C and l1_ratio parameters\n",
      "  warnings.warn(\n",
      "e:\\anaconda3\\envs\\ml_env_test\\Lib\\site-packages\\sklearn\\linear_model\\_logistic.py:1208: UserWarning: Setting penalty=None will ignore the C and l1_ratio parameters\n",
      "  warnings.warn(\n",
      "e:\\anaconda3\\envs\\ml_env_test\\Lib\\site-packages\\sklearn\\linear_model\\_logistic.py:1208: UserWarning: Setting penalty=None will ignore the C and l1_ratio parameters\n",
      "  warnings.warn(\n",
      "e:\\anaconda3\\envs\\ml_env_test\\Lib\\site-packages\\sklearn\\linear_model\\_logistic.py:1208: UserWarning: Setting penalty=None will ignore the C and l1_ratio parameters\n",
      "  warnings.warn(\n",
      "e:\\anaconda3\\envs\\ml_env_test\\Lib\\site-packages\\sklearn\\linear_model\\_logistic.py:1208: UserWarning: Setting penalty=None will ignore the C and l1_ratio parameters\n",
      "  warnings.warn(\n",
      "e:\\anaconda3\\envs\\ml_env_test\\Lib\\site-packages\\sklearn\\linear_model\\_logistic.py:1208: UserWarning: Setting penalty=None will ignore the C and l1_ratio parameters\n",
      "  warnings.warn(\n",
      "e:\\anaconda3\\envs\\ml_env_test\\Lib\\site-packages\\sklearn\\linear_model\\_logistic.py:1208: UserWarning: Setting penalty=None will ignore the C and l1_ratio parameters\n",
      "  warnings.warn(\n",
      "e:\\anaconda3\\envs\\ml_env_test\\Lib\\site-packages\\sklearn\\linear_model\\_logistic.py:1208: UserWarning: Setting penalty=None will ignore the C and l1_ratio parameters\n",
      "  warnings.warn(\n",
      "e:\\anaconda3\\envs\\ml_env_test\\Lib\\site-packages\\sklearn\\linear_model\\_logistic.py:1208: UserWarning: Setting penalty=None will ignore the C and l1_ratio parameters\n",
      "  warnings.warn(\n",
      "e:\\anaconda3\\envs\\ml_env_test\\Lib\\site-packages\\sklearn\\model_selection\\_validation.py:540: FitFailedWarning: \n",
      "60 fits failed out of a total of 120.\n",
      "The score on these train-test partitions for these parameters will be set to nan.\n",
      "If these failures are not expected, you can try to debug them by setting error_score='raise'.\n",
      "\n",
      "Below are more details about the failures:\n",
      "--------------------------------------------------------------------------------\n",
      "30 fits failed with the following error:\n",
      "Traceback (most recent call last):\n",
      "  File \"e:\\anaconda3\\envs\\ml_env_test\\Lib\\site-packages\\sklearn\\model_selection\\_validation.py\", line 888, in _fit_and_score\n",
      "    estimator.fit(X_train, y_train, **fit_params)\n",
      "  File \"e:\\anaconda3\\envs\\ml_env_test\\Lib\\site-packages\\sklearn\\base.py\", line 1473, in wrapper\n",
      "    return fit_method(estimator, *args, **kwargs)\n",
      "           ^^^^^^^^^^^^^^^^^^^^^^^^^^^^^^^^^^^^^^\n",
      "  File \"e:\\anaconda3\\envs\\ml_env_test\\Lib\\site-packages\\sklearn\\linear_model\\_logistic.py\", line 1194, in fit\n",
      "    solver = _check_solver(self.solver, self.penalty, self.dual)\n",
      "             ^^^^^^^^^^^^^^^^^^^^^^^^^^^^^^^^^^^^^^^^^^^^^^^^^^^\n",
      "  File \"e:\\anaconda3\\envs\\ml_env_test\\Lib\\site-packages\\sklearn\\linear_model\\_logistic.py\", line 67, in _check_solver\n",
      "    raise ValueError(\n",
      "ValueError: Solver lbfgs supports only 'l2' or None penalties, got l1 penalty.\n",
      "\n",
      "--------------------------------------------------------------------------------\n",
      "30 fits failed with the following error:\n",
      "Traceback (most recent call last):\n",
      "  File \"e:\\anaconda3\\envs\\ml_env_test\\Lib\\site-packages\\sklearn\\model_selection\\_validation.py\", line 888, in _fit_and_score\n",
      "    estimator.fit(X_train, y_train, **fit_params)\n",
      "  File \"e:\\anaconda3\\envs\\ml_env_test\\Lib\\site-packages\\sklearn\\base.py\", line 1473, in wrapper\n",
      "    return fit_method(estimator, *args, **kwargs)\n",
      "           ^^^^^^^^^^^^^^^^^^^^^^^^^^^^^^^^^^^^^^\n",
      "  File \"e:\\anaconda3\\envs\\ml_env_test\\Lib\\site-packages\\sklearn\\linear_model\\_logistic.py\", line 1194, in fit\n",
      "    solver = _check_solver(self.solver, self.penalty, self.dual)\n",
      "             ^^^^^^^^^^^^^^^^^^^^^^^^^^^^^^^^^^^^^^^^^^^^^^^^^^^\n",
      "  File \"e:\\anaconda3\\envs\\ml_env_test\\Lib\\site-packages\\sklearn\\linear_model\\_logistic.py\", line 67, in _check_solver\n",
      "    raise ValueError(\n",
      "ValueError: Solver lbfgs supports only 'l2' or None penalties, got elasticnet penalty.\n",
      "\n",
      "  warnings.warn(some_fits_failed_message, FitFailedWarning)\n",
      "e:\\anaconda3\\envs\\ml_env_test\\Lib\\site-packages\\sklearn\\model_selection\\_search.py:1103: UserWarning: One or more of the test scores are non-finite: [    nan 0.66125     nan 0.60375     nan 0.66125     nan 0.60375     nan\n",
      " 0.69125     nan 0.60375     nan 0.69125     nan 0.60375     nan 0.68\n",
      "     nan 0.60375     nan 0.68        nan 0.60375]\n",
      "  warnings.warn(\n"
     ]
    },
    {
     "name": "stdout",
     "output_type": "stream",
     "text": [
      "Best hyperparameters: {'C': 1.0, 'max_iter': 1000, 'penalty': 'l2'}\n",
      "\n",
      "🎯 Running K-Fold Cross-Validation...\n"
     ]
    },
    {
     "name": "stderr",
     "output_type": "stream",
     "text": [
      "K-Fold Progress: 100%|██████████| 5/5 [00:00<00:00,  8.26it/s]\n"
     ]
    },
    {
     "name": "stdout",
     "output_type": "stream",
     "text": [
      "📊 Average Accuracy: 69%\n",
      "📊 Average ROC AUC: 68%\n",
      "📊 Average F1 Score: 71%\n",
      "📊 Average Precision: 69%\n",
      "📊 Average Recall: 73%\n",
      "💾 Model saved to best_logistic_regression_word2vec.pkl\n",
      "📈 Plot saved to best_logistic_regression_word2vec.png\n"
     ]
    },
    {
     "name": "stderr",
     "output_type": "stream",
     "text": [
      "Feature Extraction Progress:  75%|███████▌  | 3/4 [00:51<00:15, 15.50s/it]"
     ]
    },
    {
     "name": "stdout",
     "output_type": "stream",
     "text": [
      "📉 Loss plot saved to best_logistic_regression_word2vec_loss.png\n",
      "\n",
      "🔍 Processing feature extraction using: glove...\n",
      "🚀 Training new model: LogisticRegression...\n"
     ]
    },
    {
     "name": "stderr",
     "output_type": "stream",
     "text": [
      "e:\\anaconda3\\envs\\ml_env_test\\Lib\\site-packages\\sklearn\\linear_model\\_logistic.py:1208: UserWarning: Setting penalty=None will ignore the C and l1_ratio parameters\n",
      "  warnings.warn(\n",
      "e:\\anaconda3\\envs\\ml_env_test\\Lib\\site-packages\\sklearn\\linear_model\\_logistic.py:1208: UserWarning: Setting penalty=None will ignore the C and l1_ratio parameters\n",
      "  warnings.warn(\n",
      "e:\\anaconda3\\envs\\ml_env_test\\Lib\\site-packages\\sklearn\\linear_model\\_logistic.py:1208: UserWarning: Setting penalty=None will ignore the C and l1_ratio parameters\n",
      "  warnings.warn(\n",
      "e:\\anaconda3\\envs\\ml_env_test\\Lib\\site-packages\\sklearn\\linear_model\\_logistic.py:1208: UserWarning: Setting penalty=None will ignore the C and l1_ratio parameters\n",
      "  warnings.warn(\n",
      "e:\\anaconda3\\envs\\ml_env_test\\Lib\\site-packages\\sklearn\\linear_model\\_logistic.py:1208: UserWarning: Setting penalty=None will ignore the C and l1_ratio parameters\n",
      "  warnings.warn(\n",
      "e:\\anaconda3\\envs\\ml_env_test\\Lib\\site-packages\\sklearn\\linear_model\\_logistic.py:1208: UserWarning: Setting penalty=None will ignore the C and l1_ratio parameters\n",
      "  warnings.warn(\n",
      "e:\\anaconda3\\envs\\ml_env_test\\Lib\\site-packages\\sklearn\\linear_model\\_logistic.py:1208: UserWarning: Setting penalty=None will ignore the C and l1_ratio parameters\n",
      "  warnings.warn(\n",
      "e:\\anaconda3\\envs\\ml_env_test\\Lib\\site-packages\\sklearn\\linear_model\\_logistic.py:1208: UserWarning: Setting penalty=None will ignore the C and l1_ratio parameters\n",
      "  warnings.warn(\n",
      "e:\\anaconda3\\envs\\ml_env_test\\Lib\\site-packages\\sklearn\\linear_model\\_logistic.py:1208: UserWarning: Setting penalty=None will ignore the C and l1_ratio parameters\n",
      "  warnings.warn(\n",
      "e:\\anaconda3\\envs\\ml_env_test\\Lib\\site-packages\\sklearn\\linear_model\\_logistic.py:1208: UserWarning: Setting penalty=None will ignore the C and l1_ratio parameters\n",
      "  warnings.warn(\n",
      "e:\\anaconda3\\envs\\ml_env_test\\Lib\\site-packages\\sklearn\\linear_model\\_logistic.py:1208: UserWarning: Setting penalty=None will ignore the C and l1_ratio parameters\n",
      "  warnings.warn(\n",
      "e:\\anaconda3\\envs\\ml_env_test\\Lib\\site-packages\\sklearn\\linear_model\\_logistic.py:1208: UserWarning: Setting penalty=None will ignore the C and l1_ratio parameters\n",
      "  warnings.warn(\n",
      "e:\\anaconda3\\envs\\ml_env_test\\Lib\\site-packages\\sklearn\\linear_model\\_logistic.py:1208: UserWarning: Setting penalty=None will ignore the C and l1_ratio parameters\n",
      "  warnings.warn(\n",
      "e:\\anaconda3\\envs\\ml_env_test\\Lib\\site-packages\\sklearn\\linear_model\\_logistic.py:1208: UserWarning: Setting penalty=None will ignore the C and l1_ratio parameters\n",
      "  warnings.warn(\n",
      "e:\\anaconda3\\envs\\ml_env_test\\Lib\\site-packages\\sklearn\\linear_model\\_logistic.py:1208: UserWarning: Setting penalty=None will ignore the C and l1_ratio parameters\n",
      "  warnings.warn(\n",
      "e:\\anaconda3\\envs\\ml_env_test\\Lib\\site-packages\\sklearn\\linear_model\\_logistic.py:1208: UserWarning: Setting penalty=None will ignore the C and l1_ratio parameters\n",
      "  warnings.warn(\n",
      "e:\\anaconda3\\envs\\ml_env_test\\Lib\\site-packages\\sklearn\\linear_model\\_logistic.py:1208: UserWarning: Setting penalty=None will ignore the C and l1_ratio parameters\n",
      "  warnings.warn(\n",
      "e:\\anaconda3\\envs\\ml_env_test\\Lib\\site-packages\\sklearn\\linear_model\\_logistic.py:1208: UserWarning: Setting penalty=None will ignore the C and l1_ratio parameters\n",
      "  warnings.warn(\n",
      "e:\\anaconda3\\envs\\ml_env_test\\Lib\\site-packages\\sklearn\\linear_model\\_logistic.py:1208: UserWarning: Setting penalty=None will ignore the C and l1_ratio parameters\n",
      "  warnings.warn(\n",
      "e:\\anaconda3\\envs\\ml_env_test\\Lib\\site-packages\\sklearn\\linear_model\\_logistic.py:1208: UserWarning: Setting penalty=None will ignore the C and l1_ratio parameters\n",
      "  warnings.warn(\n",
      "e:\\anaconda3\\envs\\ml_env_test\\Lib\\site-packages\\sklearn\\model_selection\\_validation.py:540: FitFailedWarning: \n",
      "60 fits failed out of a total of 120.\n",
      "The score on these train-test partitions for these parameters will be set to nan.\n",
      "If these failures are not expected, you can try to debug them by setting error_score='raise'.\n",
      "\n",
      "Below are more details about the failures:\n",
      "--------------------------------------------------------------------------------\n",
      "30 fits failed with the following error:\n",
      "Traceback (most recent call last):\n",
      "  File \"e:\\anaconda3\\envs\\ml_env_test\\Lib\\site-packages\\sklearn\\model_selection\\_validation.py\", line 888, in _fit_and_score\n",
      "    estimator.fit(X_train, y_train, **fit_params)\n",
      "  File \"e:\\anaconda3\\envs\\ml_env_test\\Lib\\site-packages\\sklearn\\base.py\", line 1473, in wrapper\n",
      "    return fit_method(estimator, *args, **kwargs)\n",
      "           ^^^^^^^^^^^^^^^^^^^^^^^^^^^^^^^^^^^^^^\n",
      "  File \"e:\\anaconda3\\envs\\ml_env_test\\Lib\\site-packages\\sklearn\\linear_model\\_logistic.py\", line 1194, in fit\n",
      "    solver = _check_solver(self.solver, self.penalty, self.dual)\n",
      "             ^^^^^^^^^^^^^^^^^^^^^^^^^^^^^^^^^^^^^^^^^^^^^^^^^^^\n",
      "  File \"e:\\anaconda3\\envs\\ml_env_test\\Lib\\site-packages\\sklearn\\linear_model\\_logistic.py\", line 67, in _check_solver\n",
      "    raise ValueError(\n",
      "ValueError: Solver lbfgs supports only 'l2' or None penalties, got l1 penalty.\n",
      "\n",
      "--------------------------------------------------------------------------------\n",
      "30 fits failed with the following error:\n",
      "Traceback (most recent call last):\n",
      "  File \"e:\\anaconda3\\envs\\ml_env_test\\Lib\\site-packages\\sklearn\\model_selection\\_validation.py\", line 888, in _fit_and_score\n",
      "    estimator.fit(X_train, y_train, **fit_params)\n",
      "  File \"e:\\anaconda3\\envs\\ml_env_test\\Lib\\site-packages\\sklearn\\base.py\", line 1473, in wrapper\n",
      "    return fit_method(estimator, *args, **kwargs)\n",
      "           ^^^^^^^^^^^^^^^^^^^^^^^^^^^^^^^^^^^^^^\n",
      "  File \"e:\\anaconda3\\envs\\ml_env_test\\Lib\\site-packages\\sklearn\\linear_model\\_logistic.py\", line 1194, in fit\n",
      "    solver = _check_solver(self.solver, self.penalty, self.dual)\n",
      "             ^^^^^^^^^^^^^^^^^^^^^^^^^^^^^^^^^^^^^^^^^^^^^^^^^^^\n",
      "  File \"e:\\anaconda3\\envs\\ml_env_test\\Lib\\site-packages\\sklearn\\linear_model\\_logistic.py\", line 67, in _check_solver\n",
      "    raise ValueError(\n",
      "ValueError: Solver lbfgs supports only 'l2' or None penalties, got elasticnet penalty.\n",
      "\n",
      "  warnings.warn(some_fits_failed_message, FitFailedWarning)\n",
      "e:\\anaconda3\\envs\\ml_env_test\\Lib\\site-packages\\sklearn\\model_selection\\_search.py:1103: UserWarning: One or more of the test scores are non-finite: [    nan 0.64375     nan 0.66375     nan 0.64375     nan 0.66375     nan\n",
      " 0.67125     nan 0.66375     nan 0.67125     nan 0.66375     nan 0.6675\n",
      "     nan 0.66375     nan 0.6675      nan 0.66375]\n",
      "  warnings.warn(\n"
     ]
    },
    {
     "name": "stdout",
     "output_type": "stream",
     "text": [
      "Best hyperparameters: {'C': 1.0, 'max_iter': 1000, 'penalty': 'l2'}\n",
      "\n",
      "🎯 Running K-Fold Cross-Validation...\n"
     ]
    },
    {
     "name": "stderr",
     "output_type": "stream",
     "text": [
      "K-Fold Progress: 100%|██████████| 5/5 [00:00<00:00, 12.59it/s]\n"
     ]
    },
    {
     "name": "stdout",
     "output_type": "stream",
     "text": [
      "📊 Average Accuracy: 66%\n",
      "📊 Average ROC AUC: 66%\n",
      "📊 Average F1 Score: 68%\n",
      "📊 Average Precision: 67%\n",
      "📊 Average Recall: 69%\n",
      "💾 Model saved to best_logistic_regression_glove.pkl\n",
      "📈 Plot saved to best_logistic_regression_glove.png\n"
     ]
    },
    {
     "name": "stderr",
     "output_type": "stream",
     "text": [
      "Feature Extraction Progress: 100%|██████████| 4/4 [00:56<00:00, 14.01s/it]"
     ]
    },
    {
     "name": "stdout",
     "output_type": "stream",
     "text": [
      "📉 Loss plot saved to best_logistic_regression_glove_loss.png\n"
     ]
    },
    {
     "name": "stderr",
     "output_type": "stream",
     "text": [
      "\n"
     ]
    }
   ],
   "source": [
    "print(\"\\n🔎 Running feature extraction and model training loop...\\n\")\n",
    "for method in tqdm(feature_methods, desc=\"Feature Extraction Progress\"):\n",
    "    print(f\"\\n🔍 Processing feature extraction using: {method}...\")\n",
    "\n",
    "    try:\n",
    "        model_name_lg = \"logistic_regression\"\n",
    "        \n",
    "        # Retrieve Log Reg model and hyperparameters\n",
    "        logreg_algorithm = MODEL_DICT[model_name_lg]()\n",
    "        logreg_params = MODEL_PARAMS[model_name_lg]\n",
    "\n",
    "        # Train or load model\n",
    "        trained_model = generate_binary_classification_model(\n",
    "            X=X_train_features_dict[method], \n",
    "            y=y_train, \n",
    "            model_algorithm=logreg_algorithm, \n",
    "            hyperparameters=logreg_params, \n",
    "            needs_scaled=False, \n",
    "            model_save_path=f\"best_{model_name_lg}_{method}.pkl\",\n",
    "            img_save_path=f\"best_{model_name_lg}_{method}.png\",\n",
    "            img_loss_path=f\"best_{model_name_lg}_{method}_loss.png\"\n",
    "        )\n",
    "\n",
    "    except Exception as e:\n",
    "        print(f\"❌ Error with {method}: {e}\")"
   ]
  },
  {
   "cell_type": "markdown",
   "metadata": {},
   "source": [
    "## Random Fores - kha lau"
   ]
  },
  {
   "cell_type": "code",
   "execution_count": 23,
   "metadata": {},
   "outputs": [
    {
     "name": "stdout",
     "output_type": "stream",
     "text": [
      "\n",
      "🔎 Running feature extraction and model training loop...\n",
      "\n"
     ]
    },
    {
     "name": "stderr",
     "output_type": "stream",
     "text": [
      "Feature Extraction Progress:   0%|          | 0/4 [00:00<?, ?it/s]"
     ]
    },
    {
     "name": "stdout",
     "output_type": "stream",
     "text": [
      "\n",
      "🔍 Processing feature extraction using: tfidf...\n",
      "🚀 Training new model: RandomForestClassifier...\n",
      "Best hyperparameters: {'bootstrap': False, 'max_depth': 10, 'max_features': 'sqrt', 'min_samples_leaf': 2, 'min_samples_split': 2, 'n_estimators': 100}\n",
      "\n",
      "🎯 Running K-Fold Cross-Validation...\n"
     ]
    },
    {
     "name": "stderr",
     "output_type": "stream",
     "text": [
      "K-Fold Progress: 100%|██████████| 5/5 [00:10<00:00,  2.15s/it]\n"
     ]
    },
    {
     "name": "stdout",
     "output_type": "stream",
     "text": [
      "📊 Average Accuracy: 61%\n",
      "📊 Average ROC AUC: 59%\n",
      "📊 Average F1 Score: 69%\n",
      "📊 Average Precision: 58%\n",
      "📊 Average Recall: 86%\n",
      "💾 Model saved to best_random_forest_tfidf.pkl\n",
      "📈 Plot saved to best_random_forest_tfidf.png\n"
     ]
    },
    {
     "name": "stderr",
     "output_type": "stream",
     "text": [
      "Feature Extraction Progress:  25%|██▌       | 1/4 [06:05<18:15, 365.02s/it]"
     ]
    },
    {
     "name": "stdout",
     "output_type": "stream",
     "text": [
      "📉 Loss plot saved to best_random_forest_tfidf_loss.png\n",
      "\n",
      "🔍 Processing feature extraction using: count...\n",
      "🚀 Training new model: RandomForestClassifier...\n",
      "Best hyperparameters: {'bootstrap': False, 'max_depth': 10, 'max_features': 'sqrt', 'min_samples_leaf': 1, 'min_samples_split': 2, 'n_estimators': 100}\n",
      "\n",
      "🎯 Running K-Fold Cross-Validation...\n"
     ]
    },
    {
     "name": "stderr",
     "output_type": "stream",
     "text": [
      "K-Fold Progress: 100%|██████████| 5/5 [00:10<00:00,  2.03s/it]\n"
     ]
    },
    {
     "name": "stdout",
     "output_type": "stream",
     "text": [
      "📊 Average Accuracy: 64%\n",
      "📊 Average ROC AUC: 63%\n",
      "📊 Average F1 Score: 71%\n",
      "📊 Average Precision: 61%\n",
      "📊 Average Recall: 85%\n",
      "💾 Model saved to best_random_forest_count.pkl\n",
      "📈 Plot saved to best_random_forest_count.png\n"
     ]
    },
    {
     "name": "stderr",
     "output_type": "stream",
     "text": [
      "Feature Extraction Progress:  50%|█████     | 2/4 [12:27<12:30, 375.39s/it]"
     ]
    },
    {
     "name": "stdout",
     "output_type": "stream",
     "text": [
      "📉 Loss plot saved to best_random_forest_count_loss.png\n",
      "\n",
      "🔍 Processing feature extraction using: word2vec...\n",
      "🚀 Training new model: RandomForestClassifier...\n"
     ]
    },
    {
     "ename": "",
     "evalue": "",
     "output_type": "error",
     "traceback": [
      "\u001b[1;31mThe Kernel crashed while executing code in the current cell or a previous cell. \n",
      "\u001b[1;31mPlease review the code in the cell(s) to identify a possible cause of the failure. \n",
      "\u001b[1;31mClick <a href='https://aka.ms/vscodeJupyterKernelCrash'>here</a> for more info. \n",
      "\u001b[1;31mView Jupyter <a href='command:jupyter.viewOutput'>log</a> for further details."
     ]
    }
   ],
   "source": [
    "print(\"\\n🔎 Running feature extraction and model training loop...\\n\")\n",
    "for method in tqdm(feature_methods, desc=\"Feature Extraction Progress\"):\n",
    "    print(f\"\\n🔍 Processing feature extraction using: {method}...\")\n",
    "\n",
    "    try:\n",
    "        model_name_rf = \"random_forest\"\n",
    "        \n",
    "        # Retrieve Log Reg model and hyperparameters\n",
    "        rf_algorithm = MODEL_DICT[model_name_rf]()\n",
    "        rf_params = MODEL_PARAMS[model_name_rf]\n",
    "\n",
    "        # Train or load model\n",
    "        trained_model = generate_binary_classification_model(\n",
    "            X=X_train_features_dict[method], \n",
    "            y=y_train, \n",
    "            model_algorithm=rf_algorithm, \n",
    "            hyperparameters=rf_params, \n",
    "            needs_scaled=False, \n",
    "            model_save_path=f\"best_{model_name_rf}_{method}.pkl\",\n",
    "            img_save_path=f\"best_{model_name_rf}_{method}.png\",\n",
    "            img_loss_path=f\"best_{model_name_rf}_{method}_loss.png\"\n",
    "        )\n",
    "\n",
    "    except Exception as e:\n",
    "        print(f\"❌ Error with {method}: {e}\")"
   ]
  },
  {
   "cell_type": "markdown",
   "metadata": {},
   "source": [
    "## XGBoost - sieu lau"
   ]
  },
  {
   "cell_type": "code",
   "execution_count": 78,
   "metadata": {},
   "outputs": [],
   "source": [
    "# print(\"\\n🔎 Running feature extraction and model training loop...\\n\")\n",
    "# for method in tqdm(feature_methods, desc=\"Feature Extraction Progress\"):\n",
    "#     print(f\"\\n🔍 Processing feature extraction using: {method}...\")\n",
    "\n",
    "#     try:\n",
    "#         model_name_xgb = \"xgboost\"\n",
    "        \n",
    "#         # Retrieve Log Reg model and hyperparameters\n",
    "#         xgb_algorithm = MODEL_DICT[model_name_xgb]()\n",
    "#         xgb_params = MODEL_PARAMS[model_name_xgb]\n",
    "\n",
    "#         # Train or load model\n",
    "#         trained_model = generate_binary_classification_model(\n",
    "#             X=X_train_features_dict[method], \n",
    "#             y=y_train, \n",
    "#             model_algorithm=xgb_algorithm, \n",
    "#             hyperparameters=xgb_params, \n",
    "#             needs_scaled=False, \n",
    "#             model_save_path=f\"best_{model_name_xgb}_{method}.pkl\",\n",
    "#             img_save_path=f\"best_{model_name_xgb}_{method}.png\",\n",
    "#             img_loss_path=f\"best_{model_name_xgb}_{method}_loss.png\"\n",
    "#         )\n",
    "\n",
    "#     except Exception as e:\n",
    "#         print(f\"❌ Error with {method}: {e}\")"
   ]
  },
  {
   "cell_type": "markdown",
   "metadata": {},
   "source": [
    "## Perceptron"
   ]
  },
  {
   "cell_type": "code",
   "execution_count": 15,
   "metadata": {},
   "outputs": [
    {
     "name": "stdout",
     "output_type": "stream",
     "text": [
      "\n",
      "🔎 Running feature extraction and model training loop...\n",
      "\n"
     ]
    },
    {
     "name": "stderr",
     "output_type": "stream",
     "text": [
      "Feature Extraction Progress:   0%|          | 0/4 [00:00<?, ?it/s]"
     ]
    },
    {
     "name": "stdout",
     "output_type": "stream",
     "text": [
      "\n",
      "🔍 Processing feature extraction using: tfidf...\n",
      "🚀 Training new model: Perceptron...\n",
      "Best hyperparameters: {'alpha': 0.0001, 'eta0': 0.001, 'max_iter': 1000, 'penalty': 'l2', 'tol': 0.001}\n",
      "\n",
      "🎯 Running K-Fold Cross-Validation...\n"
     ]
    },
    {
     "name": "stderr",
     "output_type": "stream",
     "text": [
      "K-Fold Progress: 100%|██████████| 5/5 [00:02<00:00,  2.07it/s]\n"
     ]
    },
    {
     "name": "stdout",
     "output_type": "stream",
     "text": [
      "📊 Average Accuracy: 60%\n",
      "📊 Average ROC AUC: 60%\n",
      "📊 Average F1 Score: 58%\n",
      "📊 Average Precision: 64%\n",
      "📊 Average Recall: 54%\n",
      "💾 Model saved to best_perceptron_tfidf.pkl\n",
      "📈 Plot saved to best_perceptron_tfidf.png\n"
     ]
    },
    {
     "name": "stderr",
     "output_type": "stream",
     "text": [
      "Feature Extraction Progress:  25%|██▌       | 1/4 [02:47<08:23, 167.93s/it]"
     ]
    },
    {
     "name": "stdout",
     "output_type": "stream",
     "text": [
      "📉 Loss plot saved to best_perceptron_tfidf_loss.png\n",
      "\n",
      "🔍 Processing feature extraction using: count...\n",
      "🚀 Training new model: Perceptron...\n",
      "Best hyperparameters: {'alpha': 0.0001, 'eta0': 0.1, 'max_iter': 1000, 'penalty': None, 'tol': 0.001}\n",
      "\n",
      "🎯 Running K-Fold Cross-Validation...\n"
     ]
    },
    {
     "name": "stderr",
     "output_type": "stream",
     "text": [
      "K-Fold Progress: 100%|██████████| 5/5 [00:03<00:00,  1.53it/s]\n"
     ]
    },
    {
     "name": "stdout",
     "output_type": "stream",
     "text": [
      "📊 Average Accuracy: 63%\n",
      "📊 Average ROC AUC: 63%\n",
      "📊 Average F1 Score: 64%\n",
      "📊 Average Precision: 66%\n",
      "📊 Average Recall: 61%\n",
      "💾 Model saved to best_perceptron_count.pkl\n",
      "📈 Plot saved to best_perceptron_count.png\n"
     ]
    },
    {
     "name": "stderr",
     "output_type": "stream",
     "text": [
      "Feature Extraction Progress:  50%|█████     | 2/4 [05:51<05:53, 176.87s/it]"
     ]
    },
    {
     "name": "stdout",
     "output_type": "stream",
     "text": [
      "📉 Loss plot saved to best_perceptron_count_loss.png\n",
      "\n",
      "🔍 Processing feature extraction using: word2vec...\n",
      "🚀 Training new model: Perceptron...\n",
      "Best hyperparameters: {'alpha': 0.0001, 'eta0': 0.01, 'max_iter': 1000, 'penalty': 'l2', 'tol': 0.0001}\n",
      "\n",
      "🎯 Running K-Fold Cross-Validation...\n"
     ]
    },
    {
     "name": "stderr",
     "output_type": "stream",
     "text": [
      "K-Fold Progress: 100%|██████████| 5/5 [00:00<00:00,  6.17it/s]\n"
     ]
    },
    {
     "name": "stdout",
     "output_type": "stream",
     "text": [
      "📊 Average Accuracy: 65%\n",
      "📊 Average ROC AUC: 64%\n",
      "📊 Average F1 Score: 65%\n",
      "📊 Average Precision: 67%\n",
      "📊 Average Recall: 70%\n",
      "💾 Model saved to best_perceptron_word2vec.pkl\n",
      "📈 Plot saved to best_perceptron_word2vec.png\n"
     ]
    },
    {
     "name": "stderr",
     "output_type": "stream",
     "text": [
      "Feature Extraction Progress:  75%|███████▌  | 3/4 [06:37<01:57, 117.33s/it]"
     ]
    },
    {
     "name": "stdout",
     "output_type": "stream",
     "text": [
      "📉 Loss plot saved to best_perceptron_word2vec_loss.png\n",
      "\n",
      "🔍 Processing feature extraction using: glove...\n",
      "🚀 Training new model: Perceptron...\n",
      "Best hyperparameters: {'alpha': 0.001, 'eta0': 0.01, 'max_iter': 1000, 'penalty': 'l2', 'tol': 0.0001}\n",
      "\n",
      "🎯 Running K-Fold Cross-Validation...\n"
     ]
    },
    {
     "name": "stderr",
     "output_type": "stream",
     "text": [
      "K-Fold Progress: 100%|██████████| 5/5 [00:00<00:00,  9.65it/s]\n"
     ]
    },
    {
     "name": "stdout",
     "output_type": "stream",
     "text": [
      "📊 Average Accuracy: 55%\n",
      "📊 Average ROC AUC: 55%\n",
      "📊 Average F1 Score: 53%\n",
      "📊 Average Precision: 63%\n",
      "📊 Average Recall: 61%\n",
      "💾 Model saved to best_perceptron_glove.pkl\n",
      "📈 Plot saved to best_perceptron_glove.png\n"
     ]
    },
    {
     "name": "stderr",
     "output_type": "stream",
     "text": [
      "Feature Extraction Progress: 100%|██████████| 4/4 [07:01<00:00, 105.37s/it]"
     ]
    },
    {
     "name": "stdout",
     "output_type": "stream",
     "text": [
      "📉 Loss plot saved to best_perceptron_glove_loss.png\n"
     ]
    },
    {
     "name": "stderr",
     "output_type": "stream",
     "text": [
      "\n"
     ]
    }
   ],
   "source": [
    "print(\"\\n🔎 Running feature extraction and model training loop...\\n\")\n",
    "for method in tqdm(feature_methods, desc=\"Feature Extraction Progress\"):\n",
    "    print(f\"\\n🔍 Processing feature extraction using: {method}...\")\n",
    "\n",
    "    try:\n",
    "        model_name_perceptron = \"perceptron\"\n",
    "        \n",
    "        # Retrieve Log Reg model and hyperparameters\n",
    "        per_algorithm = MODEL_DICT[model_name_perceptron]()\n",
    "        per_params = MODEL_PARAMS[model_name_perceptron]\n",
    "\n",
    "        # Train or load model\n",
    "        trained_model = generate_binary_classification_model(\n",
    "            X=X_train_features_dict[method], \n",
    "            y=y_train, \n",
    "            model_algorithm=per_algorithm, \n",
    "            hyperparameters=per_params, \n",
    "            needs_scaled=False, \n",
    "            model_save_path=f\"best_{model_name_perceptron}_{method}.pkl\",\n",
    "            img_save_path=f\"best_{model_name_perceptron}_{method}.png\",\n",
    "            img_loss_path=f\"best_{model_name_perceptron}_{method}_loss.png\"\n",
    "        )\n",
    "\n",
    "    except Exception as e:\n",
    "        print(f\"❌ Error with {method}: {e}\")"
   ]
  },
  {
   "cell_type": "markdown",
   "metadata": {},
   "source": [
    "## Bayesian"
   ]
  },
  {
   "cell_type": "code",
   "execution_count": 16,
   "metadata": {},
   "outputs": [
    {
     "name": "stdout",
     "output_type": "stream",
     "text": [
      "\n",
      "🔎 Running feature extraction and model training loop...\n",
      "\n"
     ]
    },
    {
     "name": "stderr",
     "output_type": "stream",
     "text": [
      "Feature Extraction Progress:   0%|          | 0/4 [00:00<?, ?it/s]"
     ]
    },
    {
     "name": "stdout",
     "output_type": "stream",
     "text": [
      "\n",
      "🔍 Processing feature extraction using: tfidf...\n",
      "🚀 Training new model: GaussianNB...\n",
      "Best hyperparameters: {'priors': None, 'var_smoothing': 1e-09}\n",
      "\n",
      "🎯 Running K-Fold Cross-Validation...\n"
     ]
    },
    {
     "name": "stderr",
     "output_type": "stream",
     "text": [
      "K-Fold Progress: 100%|██████████| 5/5 [00:01<00:00,  3.01it/s]\n"
     ]
    },
    {
     "name": "stdout",
     "output_type": "stream",
     "text": [
      "📊 Average Accuracy: 52%\n",
      "📊 Average ROC AUC: 53%\n",
      "📊 Average F1 Score: 47%\n",
      "📊 Average Precision: 57%\n",
      "📊 Average Recall: 41%\n",
      "💾 Model saved to best_bayesian_tfidf.pkl\n",
      "📈 Plot saved to best_bayesian_tfidf.png\n"
     ]
    },
    {
     "name": "stderr",
     "output_type": "stream",
     "text": [
      "Feature Extraction Progress:  25%|██▌       | 1/4 [00:19<00:58, 19.40s/it]"
     ]
    },
    {
     "name": "stdout",
     "output_type": "stream",
     "text": [
      "📉 Loss plot saved to best_bayesian_tfidf_loss.png\n",
      "\n",
      "🔍 Processing feature extraction using: count...\n",
      "🚀 Training new model: GaussianNB...\n",
      "Best hyperparameters: {'priors': None, 'var_smoothing': 1e-09}\n",
      "\n",
      "🎯 Running K-Fold Cross-Validation...\n"
     ]
    },
    {
     "name": "stderr",
     "output_type": "stream",
     "text": [
      "K-Fold Progress: 100%|██████████| 5/5 [00:02<00:00,  1.81it/s]\n"
     ]
    },
    {
     "name": "stdout",
     "output_type": "stream",
     "text": [
      "📊 Average Accuracy: 53%\n",
      "📊 Average ROC AUC: 54%\n",
      "📊 Average F1 Score: 47%\n",
      "📊 Average Precision: 59%\n",
      "📊 Average Recall: 39%\n",
      "💾 Model saved to best_bayesian_count.pkl\n",
      "📈 Plot saved to best_bayesian_count.png\n"
     ]
    },
    {
     "name": "stderr",
     "output_type": "stream",
     "text": [
      "Feature Extraction Progress:  50%|█████     | 2/4 [00:54<00:57, 28.90s/it]"
     ]
    },
    {
     "name": "stdout",
     "output_type": "stream",
     "text": [
      "📉 Loss plot saved to best_bayesian_count_loss.png\n",
      "\n",
      "🔍 Processing feature extraction using: word2vec...\n",
      "🚀 Training new model: GaussianNB...\n",
      "Best hyperparameters: {'priors': None, 'var_smoothing': 1e-09}\n",
      "\n",
      "🎯 Running K-Fold Cross-Validation...\n"
     ]
    },
    {
     "name": "stderr",
     "output_type": "stream",
     "text": [
      "K-Fold Progress: 100%|██████████| 5/5 [00:00<00:00,  5.99it/s]\n"
     ]
    },
    {
     "name": "stdout",
     "output_type": "stream",
     "text": [
      "📊 Average Accuracy: 58%\n",
      "📊 Average ROC AUC: 59%\n",
      "📊 Average F1 Score: 53%\n",
      "📊 Average Precision: 65%\n",
      "📊 Average Recall: 46%\n",
      "💾 Model saved to best_bayesian_word2vec.pkl\n",
      "📈 Plot saved to best_bayesian_word2vec.png\n"
     ]
    },
    {
     "name": "stderr",
     "output_type": "stream",
     "text": [
      "Feature Extraction Progress:  75%|███████▌  | 3/4 [01:03<00:19, 19.74s/it]"
     ]
    },
    {
     "name": "stdout",
     "output_type": "stream",
     "text": [
      "📉 Loss plot saved to best_bayesian_word2vec_loss.png\n",
      "\n",
      "🔍 Processing feature extraction using: glove...\n",
      "🚀 Training new model: GaussianNB...\n",
      "Best hyperparameters: {'priors': [0.4, 0.6], 'var_smoothing': 1e-09}\n",
      "\n",
      "🎯 Running K-Fold Cross-Validation...\n"
     ]
    },
    {
     "name": "stderr",
     "output_type": "stream",
     "text": [
      "K-Fold Progress: 100%|██████████| 5/5 [00:00<00:00,  8.87it/s]\n"
     ]
    },
    {
     "name": "stdout",
     "output_type": "stream",
     "text": [
      "📊 Average Accuracy: 57%\n",
      "📊 Average ROC AUC: 58%\n",
      "📊 Average F1 Score: 54%\n",
      "📊 Average Precision: 63%\n",
      "📊 Average Recall: 48%\n",
      "💾 Model saved to best_bayesian_glove.pkl\n",
      "📈 Plot saved to best_bayesian_glove.png\n"
     ]
    },
    {
     "name": "stderr",
     "output_type": "stream",
     "text": [
      "Feature Extraction Progress: 100%|██████████| 4/4 [01:10<00:00, 17.73s/it]"
     ]
    },
    {
     "name": "stdout",
     "output_type": "stream",
     "text": [
      "📉 Loss plot saved to best_bayesian_glove_loss.png\n"
     ]
    },
    {
     "name": "stderr",
     "output_type": "stream",
     "text": [
      "\n"
     ]
    }
   ],
   "source": [
    "print(\"\\n🔎 Running feature extraction and model training loop...\\n\")\n",
    "for method in tqdm(feature_methods, desc=\"Feature Extraction Progress\"):\n",
    "    print(f\"\\n🔍 Processing feature extraction using: {method}...\")\n",
    "\n",
    "    try:\n",
    "        model_name_bayes = \"bayesian\"\n",
    "        \n",
    "        # Retrieve Log Reg model and hyperparameters\n",
    "        bayes_algorithm = MODEL_DICT[model_name_bayes]()\n",
    "        bayes_params = MODEL_PARAMS[model_name_bayes]\n",
    "\n",
    "        # Train or load model\n",
    "        trained_model = generate_binary_classification_model(\n",
    "            X=X_train_features_dict[method], \n",
    "            y=y_train, \n",
    "            model_algorithm=bayes_algorithm, \n",
    "            hyperparameters=bayes_params, \n",
    "            needs_scaled=False, \n",
    "            model_save_path=f\"best_{model_name_bayes}_{method}.pkl\",\n",
    "            img_save_path=f\"best_{model_name_bayes}_{method}.png\",\n",
    "            img_loss_path=f\"best_{model_name_bayes}_{method}_loss.png\"\n",
    "        )\n",
    "\n",
    "    except Exception as e:\n",
    "        print(f\"❌ Error with {method}: {e}\")"
   ]
  },
  {
   "cell_type": "markdown",
   "metadata": {},
   "source": [
    "## SVM"
   ]
  },
  {
   "cell_type": "code",
   "execution_count": 14,
   "metadata": {},
   "outputs": [
    {
     "name": "stdout",
     "output_type": "stream",
     "text": [
      "\n",
      "🔎 Running feature extraction and model training loop...\n",
      "\n"
     ]
    },
    {
     "name": "stderr",
     "output_type": "stream",
     "text": [
      "Feature Extraction Progress:   0%|          | 0/4 [00:00<?, ?it/s]"
     ]
    },
    {
     "name": "stdout",
     "output_type": "stream",
     "text": [
      "\n",
      "🔍 Processing feature extraction using: tfidf...\n",
      "🚀 Training new model: SVC...\n",
      "Best hyperparameters: {'C': 1, 'gamma': 0.1, 'kernel': 'linear'}\n",
      "\n",
      "🎯 Running K-Fold Cross-Validation...\n"
     ]
    },
    {
     "name": "stderr",
     "output_type": "stream",
     "text": [
      "K-Fold Progress: 100%|██████████| 5/5 [00:10<00:00,  2.10s/it]\n"
     ]
    },
    {
     "name": "stdout",
     "output_type": "stream",
     "text": [
      "📊 Average Accuracy: 62%\n",
      "📊 Average ROC AUC: 62%\n",
      "📊 Average F1 Score: 66%\n",
      "📊 Average Precision: 62%\n",
      "📊 Average Recall: 71%\n",
      "💾 Model saved to best_svm_tfidf.pkl\n",
      "📈 Plot saved to best_svm_tfidf.png\n"
     ]
    },
    {
     "name": "stderr",
     "output_type": "stream",
     "text": [
      "Feature Extraction Progress:  25%|██▌       | 1/4 [01:51<05:35, 111.91s/it]"
     ]
    },
    {
     "name": "stdout",
     "output_type": "stream",
     "text": [
      "📉 Loss plot saved to best_svm_tfidf_loss.png\n",
      "\n",
      "🔍 Processing feature extraction using: count...\n",
      "🚀 Training new model: SVC...\n",
      "Best hyperparameters: {'C': 0.1, 'gamma': 0.1, 'kernel': 'linear'}\n",
      "\n",
      "🎯 Running K-Fold Cross-Validation...\n"
     ]
    },
    {
     "name": "stderr",
     "output_type": "stream",
     "text": [
      "K-Fold Progress: 100%|██████████| 5/5 [00:10<00:00,  2.09s/it]\n"
     ]
    },
    {
     "name": "stdout",
     "output_type": "stream",
     "text": [
      "📊 Average Accuracy: 66%\n",
      "📊 Average ROC AUC: 65%\n",
      "📊 Average F1 Score: 69%\n",
      "📊 Average Precision: 66%\n",
      "📊 Average Recall: 73%\n",
      "💾 Model saved to best_svm_count.pkl\n",
      "📈 Plot saved to best_svm_count.png\n"
     ]
    },
    {
     "name": "stderr",
     "output_type": "stream",
     "text": [
      "Feature Extraction Progress:  50%|█████     | 2/4 [03:33<03:31, 105.72s/it]"
     ]
    },
    {
     "name": "stdout",
     "output_type": "stream",
     "text": [
      "📉 Loss plot saved to best_svm_count_loss.png\n",
      "\n",
      "🔍 Processing feature extraction using: word2vec...\n",
      "🚀 Training new model: SVC...\n",
      "Best hyperparameters: {'C': 1, 'gamma': 0.1, 'kernel': 'linear'}\n",
      "\n",
      "🎯 Running K-Fold Cross-Validation...\n"
     ]
    },
    {
     "name": "stderr",
     "output_type": "stream",
     "text": [
      "K-Fold Progress: 100%|██████████| 5/5 [00:01<00:00,  3.56it/s]\n"
     ]
    },
    {
     "name": "stdout",
     "output_type": "stream",
     "text": [
      "📊 Average Accuracy: 69%\n",
      "📊 Average ROC AUC: 69%\n",
      "📊 Average F1 Score: 70%\n",
      "📊 Average Precision: 70%\n",
      "📊 Average Recall: 71%\n",
      "💾 Model saved to best_svm_word2vec.pkl\n",
      "📈 Plot saved to best_svm_word2vec.png\n"
     ]
    },
    {
     "name": "stderr",
     "output_type": "stream",
     "text": [
      "Feature Extraction Progress:  75%|███████▌  | 3/4 [03:48<01:04, 64.55s/it] "
     ]
    },
    {
     "name": "stdout",
     "output_type": "stream",
     "text": [
      "📉 Loss plot saved to best_svm_word2vec_loss.png\n",
      "\n",
      "🔍 Processing feature extraction using: glove...\n",
      "🚀 Training new model: SVC...\n",
      "Best hyperparameters: {'C': 1, 'gamma': 0.1, 'kernel': 'linear'}\n",
      "\n",
      "🎯 Running K-Fold Cross-Validation...\n"
     ]
    },
    {
     "name": "stderr",
     "output_type": "stream",
     "text": [
      "K-Fold Progress: 100%|██████████| 5/5 [00:01<00:00,  4.55it/s]\n"
     ]
    },
    {
     "name": "stdout",
     "output_type": "stream",
     "text": [
      "📊 Average Accuracy: 66%\n",
      "📊 Average ROC AUC: 66%\n",
      "📊 Average F1 Score: 68%\n",
      "📊 Average Precision: 67%\n",
      "📊 Average Recall: 68%\n",
      "💾 Model saved to best_svm_glove.pkl\n",
      "📈 Plot saved to best_svm_glove.png\n"
     ]
    },
    {
     "name": "stderr",
     "output_type": "stream",
     "text": [
      "Feature Extraction Progress: 100%|██████████| 4/4 [03:57<00:00, 59.39s/it]"
     ]
    },
    {
     "name": "stdout",
     "output_type": "stream",
     "text": [
      "📉 Loss plot saved to best_svm_glove_loss.png\n"
     ]
    },
    {
     "name": "stderr",
     "output_type": "stream",
     "text": [
      "\n"
     ]
    }
   ],
   "source": [
    "print(\"\\n🔎 Running feature extraction and model training loop...\\n\")\n",
    "for method in tqdm(feature_methods, desc=\"Feature Extraction Progress\"):\n",
    "    print(f\"\\n🔍 Processing feature extraction using: {method}...\")\n",
    "\n",
    "    try:\n",
    "        model_name_svm = \"svm\"\n",
    "        \n",
    "        # Retrieve Log Reg model and hyperparameters\n",
    "        svm_algorithm = MODEL_DICT[model_name_svm]()\n",
    "        svm_params = MODEL_PARAMS[model_name_svm]\n",
    "\n",
    "        # Train or load model\n",
    "        trained_model = generate_binary_classification_model(\n",
    "            X=X_train_features_dict[method], \n",
    "            y=y_train, \n",
    "            model_algorithm=svm_algorithm, \n",
    "            hyperparameters=svm_params, \n",
    "            needs_scaled=False, \n",
    "            model_save_path=f\"best_{model_name_svm}_{method}.pkl\",\n",
    "            img_save_path=f\"best_{model_name_svm}_{method}.png\",\n",
    "            img_loss_path=f\"best_{model_name_svm}_{method}_loss.png\"\n",
    "        )\n",
    "\n",
    "    except Exception as e:\n",
    "        print(f\"❌ Error with {method}: {e}\")"
   ]
  },
  {
   "cell_type": "markdown",
   "metadata": {},
   "source": [
    "## HMM (chua duoc)"
   ]
  },
  {
   "cell_type": "code",
   "execution_count": 83,
   "metadata": {},
   "outputs": [],
   "source": [
    "# print(\"\\n🔎 Running feature extraction and model training loop...\\n\")\n",
    "# for method in tqdm(feature_methods, desc=\"Feature Extraction Progress\"):\n",
    "#     # feature_methods = [\"tfidf\", \"count\", \"word2vec\", \"glove\"]\n",
    "#     if method in [\"tfidf\", \"count\"]:\n",
    "#         continue\n",
    "    \n",
    "#     print(f\"\\n🔍 Processing feature extraction using: {method}...\")\n",
    "\n",
    "#     try:\n",
    "#         model_name_hmm = \"hmm\"\n",
    "        \n",
    "#         # Retrieve Log Reg model and hyperparameters\n",
    "#         hmm_algorithm = MODEL_DICT[model_name_hmm]()\n",
    "#         hmm_params = MODEL_PARAMS[model_name_hmm]\n",
    "\n",
    "#         # Train or load model\n",
    "#         trained_model = generate_binary_classification_model(\n",
    "#             X=X_train_features_dict[method], \n",
    "#             y=y_train, \n",
    "#             model_algorithm=hmm_algorithm, \n",
    "#             hyperparameters=hmm_params, \n",
    "#             needs_scaled=False, \n",
    "#             model_save_path=f\"best_{model_name_hmm}_{method}.pkl\",\n",
    "#             img_save_path=f\"best_{model_name_hmm}_{method}.png\",\n",
    "#             img_loss_path=f\"best_{model_name_hmm}_{method}_loss.png\",\n",
    "#         )\n",
    "\n",
    "#     except Exception as e:\n",
    "#         print(f\"❌ Error with {method}: {e}\")"
   ]
  },
  {
   "cell_type": "markdown",
   "metadata": {},
   "source": [
    "## Something cute CNN"
   ]
  },
  {
   "cell_type": "code",
   "execution_count": 16,
   "metadata": {},
   "outputs": [
    {
     "name": "stdout",
     "output_type": "stream",
     "text": [
      "Trial 1 Complete [00h 03m 37s]\n",
      "val_accuracy: 0.6625000238418579\n",
      "\n",
      "Best val_accuracy So Far: 0.6625000238418579\n",
      "Total elapsed time: 00h 03m 37s\n"
     ]
    },
    {
     "name": "stderr",
     "output_type": "stream",
     "text": [
      "e:\\anaconda3\\envs\\ml_env_test\\Lib\\site-packages\\keras\\src\\layers\\convolutional\\base_conv.py:107: UserWarning: Do not pass an `input_shape`/`input_dim` argument to a layer. When using Sequential models, prefer using an `Input(shape)` object as the first layer in the model instead.\n",
      "  super().__init__(activity_regularizer=activity_regularizer, **kwargs)\n"
     ]
    },
    {
     "name": "stdout",
     "output_type": "stream",
     "text": [
      "Epoch 1/20\n",
      "\u001b[1m20/20\u001b[0m \u001b[32m━━━━━━━━━━━━━━━━━━━━\u001b[0m\u001b[37m\u001b[0m \u001b[1m19s\u001b[0m 668ms/step - accuracy: 0.4899 - loss: 0.6920 - val_accuracy: 0.6375 - val_loss: 0.6578\n",
      "Epoch 2/20\n",
      "\u001b[1m20/20\u001b[0m \u001b[32m━━━━━━━━━━━━━━━━━━━━\u001b[0m\u001b[37m\u001b[0m \u001b[1m14s\u001b[0m 708ms/step - accuracy: 0.7881 - loss: 0.5118 - val_accuracy: 0.6687 - val_loss: 0.6462\n",
      "Epoch 3/20\n",
      "\u001b[1m20/20\u001b[0m \u001b[32m━━━━━━━━━━━━━━━━━━━━\u001b[0m\u001b[37m\u001b[0m \u001b[1m17s\u001b[0m 531ms/step - accuracy: 0.8990 - loss: 0.2894 - val_accuracy: 0.6562 - val_loss: 0.8792\n",
      "Epoch 4/20\n",
      "\u001b[1m20/20\u001b[0m \u001b[32m━━━━━━━━━━━━━━━━━━━━\u001b[0m\u001b[37m\u001b[0m \u001b[1m14s\u001b[0m 691ms/step - accuracy: 0.9722 - loss: 0.1176 - val_accuracy: 0.6625 - val_loss: 1.1229\n",
      "Epoch 5/20\n",
      "\u001b[1m20/20\u001b[0m \u001b[32m━━━━━━━━━━━━━━━━━━━━\u001b[0m\u001b[37m\u001b[0m \u001b[1m19s\u001b[0m 606ms/step - accuracy: 0.9668 - loss: 0.0839 - val_accuracy: 0.6562 - val_loss: 1.2601\n",
      "Epoch 6/20\n",
      "\u001b[1m20/20\u001b[0m \u001b[32m━━━━━━━━━━━━━━━━━━━━\u001b[0m\u001b[37m\u001b[0m \u001b[1m21s\u001b[0m 589ms/step - accuracy: 0.9959 - loss: 0.0280 - val_accuracy: 0.6438 - val_loss: 1.5299\n",
      "Epoch 7/20\n",
      "\u001b[1m20/20\u001b[0m \u001b[32m━━━━━━━━━━━━━━━━━━━━\u001b[0m\u001b[37m\u001b[0m \u001b[1m19s\u001b[0m 551ms/step - accuracy: 0.9924 - loss: 0.0209 - val_accuracy: 0.6187 - val_loss: 1.7660\n",
      "Epoch 8/20\n",
      "\u001b[1m20/20\u001b[0m \u001b[32m━━━━━━━━━━━━━━━━━━━━\u001b[0m\u001b[37m\u001b[0m \u001b[1m22s\u001b[0m 625ms/step - accuracy: 0.9963 - loss: 0.0178 - val_accuracy: 0.6125 - val_loss: 1.8880\n",
      "Epoch 9/20\n",
      "\u001b[1m20/20\u001b[0m \u001b[32m━━━━━━━━━━━━━━━━━━━━\u001b[0m\u001b[37m\u001b[0m \u001b[1m17s\u001b[0m 853ms/step - accuracy: 0.9951 - loss: 0.0142 - val_accuracy: 0.6062 - val_loss: 1.8842\n",
      "Epoch 10/20\n",
      "\u001b[1m20/20\u001b[0m \u001b[32m━━━━━━━━━━━━━━━━━━━━\u001b[0m\u001b[37m\u001b[0m \u001b[1m28s\u001b[0m 1s/step - accuracy: 0.9963 - loss: 0.0088 - val_accuracy: 0.6313 - val_loss: 1.9529\n",
      "Epoch 11/20\n",
      "\u001b[1m20/20\u001b[0m \u001b[32m━━━━━━━━━━━━━━━━━━━━\u001b[0m\u001b[37m\u001b[0m \u001b[1m18s\u001b[0m 877ms/step - accuracy: 0.9956 - loss: 0.0113 - val_accuracy: 0.6250 - val_loss: 1.9805\n",
      "Epoch 12/20\n",
      "\u001b[1m20/20\u001b[0m \u001b[32m━━━━━━━━━━━━━━━━━━━━\u001b[0m\u001b[37m\u001b[0m \u001b[1m15s\u001b[0m 772ms/step - accuracy: 0.9950 - loss: 0.0096 - val_accuracy: 0.6187 - val_loss: 2.0227\n",
      "Epoch 13/20\n",
      "\u001b[1m20/20\u001b[0m \u001b[32m━━━━━━━━━━━━━━━━━━━━\u001b[0m\u001b[37m\u001b[0m \u001b[1m20s\u001b[0m 746ms/step - accuracy: 0.9996 - loss: 0.0027 - val_accuracy: 0.6125 - val_loss: 2.0942\n",
      "Epoch 14/20\n",
      "\u001b[1m20/20\u001b[0m \u001b[32m━━━━━━━━━━━━━━━━━━━━\u001b[0m\u001b[37m\u001b[0m \u001b[1m16s\u001b[0m 799ms/step - accuracy: 0.9955 - loss: 0.0121 - val_accuracy: 0.6375 - val_loss: 2.0877\n",
      "Epoch 15/20\n",
      "\u001b[1m20/20\u001b[0m \u001b[32m━━━━━━━━━━━━━━━━━━━━\u001b[0m\u001b[37m\u001b[0m \u001b[1m20s\u001b[0m 755ms/step - accuracy: 0.9960 - loss: 0.0073 - val_accuracy: 0.6000 - val_loss: 2.1225\n",
      "Epoch 16/20\n",
      "\u001b[1m20/20\u001b[0m \u001b[32m━━━━━━━━━━━━━━━━━━━━\u001b[0m\u001b[37m\u001b[0m \u001b[1m19s\u001b[0m 962ms/step - accuracy: 0.9950 - loss: 0.0080 - val_accuracy: 0.6000 - val_loss: 2.1645\n",
      "Epoch 17/20\n",
      "\u001b[1m20/20\u001b[0m \u001b[32m━━━━━━━━━━━━━━━━━━━━\u001b[0m\u001b[37m\u001b[0m \u001b[1m19s\u001b[0m 946ms/step - accuracy: 0.9976 - loss: 0.0050 - val_accuracy: 0.6062 - val_loss: 2.1942\n",
      "Epoch 18/20\n",
      "\u001b[1m20/20\u001b[0m \u001b[32m━━━━━━━━━━━━━━━━━━━━\u001b[0m\u001b[37m\u001b[0m \u001b[1m22s\u001b[0m 995ms/step - accuracy: 0.9953 - loss: 0.0103 - val_accuracy: 0.6187 - val_loss: 2.1974\n",
      "Epoch 19/20\n",
      "\u001b[1m20/20\u001b[0m \u001b[32m━━━━━━━━━━━━━━━━━━━━\u001b[0m\u001b[37m\u001b[0m \u001b[1m17s\u001b[0m 740ms/step - accuracy: 0.9990 - loss: 0.0050 - val_accuracy: 0.6062 - val_loss: 2.2242\n",
      "Epoch 20/20\n",
      "\u001b[1m20/20\u001b[0m \u001b[32m━━━━━━━━━━━━━━━━━━━━\u001b[0m\u001b[37m\u001b[0m \u001b[1m16s\u001b[0m 815ms/step - accuracy: 0.9941 - loss: 0.0132 - val_accuracy: 0.6000 - val_loss: 2.2644\n",
      "\u001b[1m7/7\u001b[0m \u001b[32m━━━━━━━━━━━━━━━━━━━━\u001b[0m\u001b[37m\u001b[0m \u001b[1m2s\u001b[0m 198ms/step\n"
     ]
    },
    {
     "name": "stderr",
     "output_type": "stream",
     "text": [
      "Feature Extraction Progress:  25%|██▌       | 1/4 [10:03<30:09, 603.00s/it]e:\\anaconda3\\envs\\ml_env_test\\Lib\\site-packages\\keras\\src\\layers\\convolutional\\base_conv.py:107: UserWarning: Do not pass an `input_shape`/`input_dim` argument to a layer. When using Sequential models, prefer using an `Input(shape)` object as the first layer in the model instead.\n",
      "  super().__init__(activity_regularizer=activity_regularizer, **kwargs)\n"
     ]
    },
    {
     "name": "stdout",
     "output_type": "stream",
     "text": [
      "\n",
      "🔍 Processing feature extraction using: count...\n",
      "\n",
      "Search: Running Trial #1\n",
      "\n",
      "Value             |Best Value So Far |Hyperparameter\n",
      "64                |64                |filters_1\n",
      "3                 |3                 |kernel_size_1\n",
      "192               |192               |filters_2\n",
      "3                 |3                 |kernel_size_2\n",
      "192               |192               |dense_units\n",
      "0.4               |0.4               |dropout\n",
      "0.001             |0.001             |learning_rate\n",
      "\n",
      "Epoch 1/10\n",
      "\u001b[1m20/20\u001b[0m \u001b[32m━━━━━━━━━━━━━━━━━━━━\u001b[0m\u001b[37m\u001b[0m \u001b[1m20s\u001b[0m 648ms/step - accuracy: 0.5353 - loss: 0.6927 - val_accuracy: 0.5813 - val_loss: 0.6953\n",
      "Epoch 2/10\n",
      "\u001b[1m20/20\u001b[0m \u001b[32m━━━━━━━━━━━━━━━━━━━━\u001b[0m\u001b[37m\u001b[0m \u001b[1m16s\u001b[0m 790ms/step - accuracy: 0.7524 - loss: 0.5709 - val_accuracy: 0.6187 - val_loss: 0.7392\n",
      "Epoch 3/10\n",
      "\u001b[1m20/20\u001b[0m \u001b[32m━━━━━━━━━━━━━━━━━━━━\u001b[0m\u001b[37m\u001b[0m \u001b[1m20s\u001b[0m 743ms/step - accuracy: 0.8412 - loss: 0.3484 - val_accuracy: 0.6250 - val_loss: 0.7526\n",
      "Epoch 4/10\n",
      "\u001b[1m20/20\u001b[0m \u001b[32m━━━━━━━━━━━━━━━━━━━━\u001b[0m\u001b[37m\u001b[0m \u001b[1m21s\u001b[0m 740ms/step - accuracy: 0.9348 - loss: 0.1806 - val_accuracy: 0.6125 - val_loss: 0.9898\n",
      "Epoch 5/10\n"
     ]
    },
    {
     "name": "stderr",
     "output_type": "stream",
     "text": [
      "Feature Extraction Progress:  25%|██▌       | 1/4 [11:29<34:27, 689.02s/it]\n"
     ]
    },
    {
     "ename": "KeyboardInterrupt",
     "evalue": "",
     "output_type": "error",
     "traceback": [
      "\u001b[1;31m---------------------------------------------------------------------------\u001b[0m",
      "\u001b[1;31mKeyboardInterrupt\u001b[0m                         Traceback (most recent call last)",
      "Cell \u001b[1;32mIn[16], line 33\u001b[0m\n\u001b[0;32m     23\u001b[0m tuner \u001b[38;5;241m=\u001b[39m kt\u001b[38;5;241m.\u001b[39mRandomSearch(\n\u001b[0;32m     24\u001b[0m     \u001b[38;5;28;01mlambda\u001b[39;00m hp: build_cnn_model(hp, input_shape),\n\u001b[0;32m     25\u001b[0m     objective\u001b[38;5;241m=\u001b[39m\u001b[38;5;124m\"\u001b[39m\u001b[38;5;124mval_accuracy\u001b[39m\u001b[38;5;124m\"\u001b[39m,\n\u001b[1;32m   (...)\u001b[0m\n\u001b[0;32m     29\u001b[0m     project_name\u001b[38;5;241m=\u001b[39m\u001b[38;5;124mf\u001b[39m\u001b[38;5;124m\"\u001b[39m\u001b[38;5;124mcnn_tuning_\u001b[39m\u001b[38;5;132;01m{\u001b[39;00mmethod\u001b[38;5;132;01m}\u001b[39;00m\u001b[38;5;124m\"\u001b[39m\n\u001b[0;32m     30\u001b[0m )\n\u001b[0;32m     32\u001b[0m \u001b[38;5;66;03m# Perform hyperparameter search\u001b[39;00m\n\u001b[1;32m---> 33\u001b[0m \u001b[43mtuner\u001b[49m\u001b[38;5;241;43m.\u001b[39;49m\u001b[43msearch\u001b[49m\u001b[43m(\u001b[49m\u001b[43mX_train_features\u001b[49m\u001b[43m,\u001b[49m\u001b[43m \u001b[49m\u001b[43my_train\u001b[49m\u001b[43m,\u001b[49m\u001b[43m \u001b[49m\u001b[43mepochs\u001b[49m\u001b[38;5;241;43m=\u001b[39;49m\u001b[38;5;241;43m10\u001b[39;49m\u001b[43m,\u001b[49m\u001b[43m \u001b[49m\u001b[43mbatch_size\u001b[49m\u001b[38;5;241;43m=\u001b[39;49m\u001b[38;5;241;43m32\u001b[39;49m\u001b[43m,\u001b[49m\u001b[43m \u001b[49m\u001b[43mvalidation_split\u001b[49m\u001b[38;5;241;43m=\u001b[39;49m\u001b[38;5;241;43m0.2\u001b[39;49m\u001b[43m,\u001b[49m\u001b[43m \u001b[49m\u001b[43mverbose\u001b[49m\u001b[38;5;241;43m=\u001b[39;49m\u001b[38;5;241;43m1\u001b[39;49m\u001b[43m)\u001b[49m\n\u001b[0;32m     35\u001b[0m \u001b[38;5;66;03m# Get the best hyperparameters\u001b[39;00m\n\u001b[0;32m     36\u001b[0m best_hps \u001b[38;5;241m=\u001b[39m tuner\u001b[38;5;241m.\u001b[39mget_best_hyperparameters(num_trials\u001b[38;5;241m=\u001b[39m\u001b[38;5;241m1\u001b[39m)[\u001b[38;5;241m0\u001b[39m]\n",
      "File \u001b[1;32me:\\anaconda3\\envs\\ml_env_test\\Lib\\site-packages\\keras_tuner\\src\\engine\\base_tuner.py:234\u001b[0m, in \u001b[0;36mBaseTuner.search\u001b[1;34m(self, *fit_args, **fit_kwargs)\u001b[0m\n\u001b[0;32m    231\u001b[0m         \u001b[38;5;28;01mcontinue\u001b[39;00m\n\u001b[0;32m    233\u001b[0m     \u001b[38;5;28mself\u001b[39m\u001b[38;5;241m.\u001b[39mon_trial_begin(trial)\n\u001b[1;32m--> 234\u001b[0m     \u001b[38;5;28;43mself\u001b[39;49m\u001b[38;5;241;43m.\u001b[39;49m\u001b[43m_try_run_and_update_trial\u001b[49m\u001b[43m(\u001b[49m\u001b[43mtrial\u001b[49m\u001b[43m,\u001b[49m\u001b[43m \u001b[49m\u001b[38;5;241;43m*\u001b[39;49m\u001b[43mfit_args\u001b[49m\u001b[43m,\u001b[49m\u001b[43m \u001b[49m\u001b[38;5;241;43m*\u001b[39;49m\u001b[38;5;241;43m*\u001b[39;49m\u001b[43mfit_kwargs\u001b[49m\u001b[43m)\u001b[49m\n\u001b[0;32m    235\u001b[0m     \u001b[38;5;28mself\u001b[39m\u001b[38;5;241m.\u001b[39mon_trial_end(trial)\n\u001b[0;32m    236\u001b[0m \u001b[38;5;28mself\u001b[39m\u001b[38;5;241m.\u001b[39mon_search_end()\n",
      "File \u001b[1;32me:\\anaconda3\\envs\\ml_env_test\\Lib\\site-packages\\keras_tuner\\src\\engine\\base_tuner.py:274\u001b[0m, in \u001b[0;36mBaseTuner._try_run_and_update_trial\u001b[1;34m(self, trial, *fit_args, **fit_kwargs)\u001b[0m\n\u001b[0;32m    272\u001b[0m \u001b[38;5;28;01mdef\u001b[39;00m \u001b[38;5;21m_try_run_and_update_trial\u001b[39m(\u001b[38;5;28mself\u001b[39m, trial, \u001b[38;5;241m*\u001b[39mfit_args, \u001b[38;5;241m*\u001b[39m\u001b[38;5;241m*\u001b[39mfit_kwargs):\n\u001b[0;32m    273\u001b[0m     \u001b[38;5;28;01mtry\u001b[39;00m:\n\u001b[1;32m--> 274\u001b[0m         \u001b[38;5;28;43mself\u001b[39;49m\u001b[38;5;241;43m.\u001b[39;49m\u001b[43m_run_and_update_trial\u001b[49m\u001b[43m(\u001b[49m\u001b[43mtrial\u001b[49m\u001b[43m,\u001b[49m\u001b[43m \u001b[49m\u001b[38;5;241;43m*\u001b[39;49m\u001b[43mfit_args\u001b[49m\u001b[43m,\u001b[49m\u001b[43m \u001b[49m\u001b[38;5;241;43m*\u001b[39;49m\u001b[38;5;241;43m*\u001b[39;49m\u001b[43mfit_kwargs\u001b[49m\u001b[43m)\u001b[49m\n\u001b[0;32m    275\u001b[0m         trial\u001b[38;5;241m.\u001b[39mstatus \u001b[38;5;241m=\u001b[39m trial_module\u001b[38;5;241m.\u001b[39mTrialStatus\u001b[38;5;241m.\u001b[39mCOMPLETED\n\u001b[0;32m    276\u001b[0m         \u001b[38;5;28;01mreturn\u001b[39;00m\n",
      "File \u001b[1;32me:\\anaconda3\\envs\\ml_env_test\\Lib\\site-packages\\keras_tuner\\src\\engine\\base_tuner.py:239\u001b[0m, in \u001b[0;36mBaseTuner._run_and_update_trial\u001b[1;34m(self, trial, *fit_args, **fit_kwargs)\u001b[0m\n\u001b[0;32m    238\u001b[0m \u001b[38;5;28;01mdef\u001b[39;00m \u001b[38;5;21m_run_and_update_trial\u001b[39m(\u001b[38;5;28mself\u001b[39m, trial, \u001b[38;5;241m*\u001b[39mfit_args, \u001b[38;5;241m*\u001b[39m\u001b[38;5;241m*\u001b[39mfit_kwargs):\n\u001b[1;32m--> 239\u001b[0m     results \u001b[38;5;241m=\u001b[39m \u001b[38;5;28;43mself\u001b[39;49m\u001b[38;5;241;43m.\u001b[39;49m\u001b[43mrun_trial\u001b[49m\u001b[43m(\u001b[49m\u001b[43mtrial\u001b[49m\u001b[43m,\u001b[49m\u001b[43m \u001b[49m\u001b[38;5;241;43m*\u001b[39;49m\u001b[43mfit_args\u001b[49m\u001b[43m,\u001b[49m\u001b[43m \u001b[49m\u001b[38;5;241;43m*\u001b[39;49m\u001b[38;5;241;43m*\u001b[39;49m\u001b[43mfit_kwargs\u001b[49m\u001b[43m)\u001b[49m\n\u001b[0;32m    240\u001b[0m     \u001b[38;5;28;01mif\u001b[39;00m \u001b[38;5;28mself\u001b[39m\u001b[38;5;241m.\u001b[39moracle\u001b[38;5;241m.\u001b[39mget_trial(trial\u001b[38;5;241m.\u001b[39mtrial_id)\u001b[38;5;241m.\u001b[39mmetrics\u001b[38;5;241m.\u001b[39mexists(\n\u001b[0;32m    241\u001b[0m         \u001b[38;5;28mself\u001b[39m\u001b[38;5;241m.\u001b[39moracle\u001b[38;5;241m.\u001b[39mobjective\u001b[38;5;241m.\u001b[39mname\n\u001b[0;32m    242\u001b[0m     ):\n\u001b[0;32m    243\u001b[0m         \u001b[38;5;66;03m# The oracle is updated by calling `self.oracle.update_trial()` in\u001b[39;00m\n\u001b[0;32m    244\u001b[0m         \u001b[38;5;66;03m# `Tuner.run_trial()`. For backward compatibility, we support this\u001b[39;00m\n\u001b[0;32m    245\u001b[0m         \u001b[38;5;66;03m# use case. No further action needed in this case.\u001b[39;00m\n\u001b[0;32m    246\u001b[0m         warnings\u001b[38;5;241m.\u001b[39mwarn(\n\u001b[0;32m    247\u001b[0m             \u001b[38;5;124m\"\u001b[39m\u001b[38;5;124mThe use case of calling \u001b[39m\u001b[38;5;124m\"\u001b[39m\n\u001b[0;32m    248\u001b[0m             \u001b[38;5;124m\"\u001b[39m\u001b[38;5;124m`self.oracle.update_trial(trial_id, metrics)` \u001b[39m\u001b[38;5;124m\"\u001b[39m\n\u001b[1;32m   (...)\u001b[0m\n\u001b[0;32m    254\u001b[0m             stacklevel\u001b[38;5;241m=\u001b[39m\u001b[38;5;241m2\u001b[39m,\n\u001b[0;32m    255\u001b[0m         )\n",
      "File \u001b[1;32me:\\anaconda3\\envs\\ml_env_test\\Lib\\site-packages\\keras_tuner\\src\\engine\\tuner.py:314\u001b[0m, in \u001b[0;36mTuner.run_trial\u001b[1;34m(self, trial, *args, **kwargs)\u001b[0m\n\u001b[0;32m    312\u001b[0m     callbacks\u001b[38;5;241m.\u001b[39mappend(model_checkpoint)\n\u001b[0;32m    313\u001b[0m     copied_kwargs[\u001b[38;5;124m\"\u001b[39m\u001b[38;5;124mcallbacks\u001b[39m\u001b[38;5;124m\"\u001b[39m] \u001b[38;5;241m=\u001b[39m callbacks\n\u001b[1;32m--> 314\u001b[0m     obj_value \u001b[38;5;241m=\u001b[39m \u001b[38;5;28;43mself\u001b[39;49m\u001b[38;5;241;43m.\u001b[39;49m\u001b[43m_build_and_fit_model\u001b[49m\u001b[43m(\u001b[49m\u001b[43mtrial\u001b[49m\u001b[43m,\u001b[49m\u001b[43m \u001b[49m\u001b[38;5;241;43m*\u001b[39;49m\u001b[43margs\u001b[49m\u001b[43m,\u001b[49m\u001b[43m \u001b[49m\u001b[38;5;241;43m*\u001b[39;49m\u001b[38;5;241;43m*\u001b[39;49m\u001b[43mcopied_kwargs\u001b[49m\u001b[43m)\u001b[49m\n\u001b[0;32m    316\u001b[0m     histories\u001b[38;5;241m.\u001b[39mappend(obj_value)\n\u001b[0;32m    317\u001b[0m \u001b[38;5;28;01mreturn\u001b[39;00m histories\n",
      "File \u001b[1;32me:\\anaconda3\\envs\\ml_env_test\\Lib\\site-packages\\keras_tuner\\src\\engine\\tuner.py:233\u001b[0m, in \u001b[0;36mTuner._build_and_fit_model\u001b[1;34m(self, trial, *args, **kwargs)\u001b[0m\n\u001b[0;32m    231\u001b[0m hp \u001b[38;5;241m=\u001b[39m trial\u001b[38;5;241m.\u001b[39mhyperparameters\n\u001b[0;32m    232\u001b[0m model \u001b[38;5;241m=\u001b[39m \u001b[38;5;28mself\u001b[39m\u001b[38;5;241m.\u001b[39m_try_build(hp)\n\u001b[1;32m--> 233\u001b[0m results \u001b[38;5;241m=\u001b[39m \u001b[38;5;28;43mself\u001b[39;49m\u001b[38;5;241;43m.\u001b[39;49m\u001b[43mhypermodel\u001b[49m\u001b[38;5;241;43m.\u001b[39;49m\u001b[43mfit\u001b[49m\u001b[43m(\u001b[49m\u001b[43mhp\u001b[49m\u001b[43m,\u001b[49m\u001b[43m \u001b[49m\u001b[43mmodel\u001b[49m\u001b[43m,\u001b[49m\u001b[43m \u001b[49m\u001b[38;5;241;43m*\u001b[39;49m\u001b[43margs\u001b[49m\u001b[43m,\u001b[49m\u001b[43m \u001b[49m\u001b[38;5;241;43m*\u001b[39;49m\u001b[38;5;241;43m*\u001b[39;49m\u001b[43mkwargs\u001b[49m\u001b[43m)\u001b[49m\n\u001b[0;32m    235\u001b[0m \u001b[38;5;66;03m# Save the build config for model loading later.\u001b[39;00m\n\u001b[0;32m    236\u001b[0m \u001b[38;5;28;01mif\u001b[39;00m backend\u001b[38;5;241m.\u001b[39mconfig\u001b[38;5;241m.\u001b[39mmulti_backend():\n",
      "File \u001b[1;32me:\\anaconda3\\envs\\ml_env_test\\Lib\\site-packages\\keras_tuner\\src\\engine\\hypermodel.py:149\u001b[0m, in \u001b[0;36mHyperModel.fit\u001b[1;34m(self, hp, model, *args, **kwargs)\u001b[0m\n\u001b[0;32m    125\u001b[0m \u001b[38;5;28;01mdef\u001b[39;00m \u001b[38;5;21mfit\u001b[39m(\u001b[38;5;28mself\u001b[39m, hp, model, \u001b[38;5;241m*\u001b[39margs, \u001b[38;5;241m*\u001b[39m\u001b[38;5;241m*\u001b[39mkwargs):\n\u001b[0;32m    126\u001b[0m \u001b[38;5;250m    \u001b[39m\u001b[38;5;124;03m\"\"\"Train the model.\u001b[39;00m\n\u001b[0;32m    127\u001b[0m \n\u001b[0;32m    128\u001b[0m \u001b[38;5;124;03m    Args:\u001b[39;00m\n\u001b[1;32m   (...)\u001b[0m\n\u001b[0;32m    147\u001b[0m \u001b[38;5;124;03m        If return a float, it should be the `objective` value.\u001b[39;00m\n\u001b[0;32m    148\u001b[0m \u001b[38;5;124;03m    \"\"\"\u001b[39;00m\n\u001b[1;32m--> 149\u001b[0m     \u001b[38;5;28;01mreturn\u001b[39;00m \u001b[43mmodel\u001b[49m\u001b[38;5;241;43m.\u001b[39;49m\u001b[43mfit\u001b[49m\u001b[43m(\u001b[49m\u001b[38;5;241;43m*\u001b[39;49m\u001b[43margs\u001b[49m\u001b[43m,\u001b[49m\u001b[43m \u001b[49m\u001b[38;5;241;43m*\u001b[39;49m\u001b[38;5;241;43m*\u001b[39;49m\u001b[43mkwargs\u001b[49m\u001b[43m)\u001b[49m\n",
      "File \u001b[1;32me:\\anaconda3\\envs\\ml_env_test\\Lib\\site-packages\\keras\\src\\utils\\traceback_utils.py:117\u001b[0m, in \u001b[0;36mfilter_traceback.<locals>.error_handler\u001b[1;34m(*args, **kwargs)\u001b[0m\n\u001b[0;32m    115\u001b[0m filtered_tb \u001b[38;5;241m=\u001b[39m \u001b[38;5;28;01mNone\u001b[39;00m\n\u001b[0;32m    116\u001b[0m \u001b[38;5;28;01mtry\u001b[39;00m:\n\u001b[1;32m--> 117\u001b[0m     \u001b[38;5;28;01mreturn\u001b[39;00m \u001b[43mfn\u001b[49m\u001b[43m(\u001b[49m\u001b[38;5;241;43m*\u001b[39;49m\u001b[43margs\u001b[49m\u001b[43m,\u001b[49m\u001b[43m \u001b[49m\u001b[38;5;241;43m*\u001b[39;49m\u001b[38;5;241;43m*\u001b[39;49m\u001b[43mkwargs\u001b[49m\u001b[43m)\u001b[49m\n\u001b[0;32m    118\u001b[0m \u001b[38;5;28;01mexcept\u001b[39;00m \u001b[38;5;167;01mException\u001b[39;00m \u001b[38;5;28;01mas\u001b[39;00m e:\n\u001b[0;32m    119\u001b[0m     filtered_tb \u001b[38;5;241m=\u001b[39m _process_traceback_frames(e\u001b[38;5;241m.\u001b[39m__traceback__)\n",
      "File \u001b[1;32me:\\anaconda3\\envs\\ml_env_test\\Lib\\site-packages\\keras\\src\\backend\\tensorflow\\trainer.py:370\u001b[0m, in \u001b[0;36mTensorFlowTrainer.fit\u001b[1;34m(self, x, y, batch_size, epochs, verbose, callbacks, validation_split, validation_data, shuffle, class_weight, sample_weight, initial_epoch, steps_per_epoch, validation_steps, validation_batch_size, validation_freq)\u001b[0m\n\u001b[0;32m    368\u001b[0m \u001b[38;5;28;01mwith\u001b[39;00m epoch_iterator\u001b[38;5;241m.\u001b[39mcatch_stop_iteration():\n\u001b[0;32m    369\u001b[0m     \u001b[38;5;28;01mfor\u001b[39;00m step, iterator \u001b[38;5;129;01min\u001b[39;00m epoch_iterator:\n\u001b[1;32m--> 370\u001b[0m         \u001b[43mcallbacks\u001b[49m\u001b[38;5;241;43m.\u001b[39;49m\u001b[43mon_train_batch_begin\u001b[49m\u001b[43m(\u001b[49m\u001b[43mstep\u001b[49m\u001b[43m)\u001b[49m\n\u001b[0;32m    371\u001b[0m         logs \u001b[38;5;241m=\u001b[39m \u001b[38;5;28mself\u001b[39m\u001b[38;5;241m.\u001b[39mtrain_function(iterator)\n\u001b[0;32m    372\u001b[0m         callbacks\u001b[38;5;241m.\u001b[39mon_train_batch_end(step, logs)\n",
      "File \u001b[1;32me:\\anaconda3\\envs\\ml_env_test\\Lib\\site-packages\\keras\\src\\callbacks\\callback_list.py:147\u001b[0m, in \u001b[0;36mCallbackList.on_train_batch_begin\u001b[1;34m(self, batch, logs)\u001b[0m\n\u001b[0;32m    144\u001b[0m     \u001b[38;5;28;01mfor\u001b[39;00m callback \u001b[38;5;129;01min\u001b[39;00m \u001b[38;5;28mself\u001b[39m\u001b[38;5;241m.\u001b[39mcallbacks:\n\u001b[0;32m    145\u001b[0m         callback\u001b[38;5;241m.\u001b[39mon_epoch_end(epoch, logs)\n\u001b[1;32m--> 147\u001b[0m \u001b[38;5;28;01mdef\u001b[39;00m \u001b[38;5;21mon_train_batch_begin\u001b[39m(\u001b[38;5;28mself\u001b[39m, batch, logs\u001b[38;5;241m=\u001b[39m\u001b[38;5;28;01mNone\u001b[39;00m):\n\u001b[0;32m    148\u001b[0m     logs \u001b[38;5;241m=\u001b[39m python_utils\u001b[38;5;241m.\u001b[39mpythonify_logs(logs)\n\u001b[0;32m    149\u001b[0m     \u001b[38;5;28;01mfor\u001b[39;00m callback \u001b[38;5;129;01min\u001b[39;00m \u001b[38;5;28mself\u001b[39m\u001b[38;5;241m.\u001b[39mcallbacks:\n",
      "\u001b[1;31mKeyboardInterrupt\u001b[0m: "
     ]
    }
   ],
   "source": [
    "print(\"\\n🔎 Running hyperparameter tuning and model training loop...\\n\")\n",
    "\n",
    "results = {}  # Store results for all methods\n",
    "\n",
    "for method in tqdm(feature_methods, desc=\"Feature Extraction Progress\"):\n",
    "    print(f\"\\n🔍 Processing feature extraction using: {method}...\")\n",
    "\n",
    "    try:\n",
    "        model_name = \"cnn\"\n",
    "\n",
    "        # Retrieve feature matrices\n",
    "        X_train_features = np.array(X_train_features_dict[method])\n",
    "        X_test_features = np.array(X_test_features_dict[method])\n",
    "\n",
    "        # Ensure the data has a shape compatible with CNN\n",
    "        X_train_features = X_train_features.reshape(-1, X_train_features.shape[1], 1)\n",
    "        X_test_features = X_test_features.reshape(-1, X_test_features.shape[1], 1)\n",
    "        \n",
    "        # Get input shape dynamically\n",
    "        input_shape = (X_train_features.shape[1], 1)\n",
    "\n",
    "        # Initialize Keras Tuner\n",
    "        tuner = kt.RandomSearch(\n",
    "            lambda hp: build_cnn_model(hp, input_shape),\n",
    "            objective=\"val_accuracy\",\n",
    "            max_trials=1,  # Number of different models to try\n",
    "            executions_per_trial=1,\n",
    "            directory=\"tuner_results\",\n",
    "            project_name=f\"cnn_tuning_{method}\"\n",
    "        )\n",
    "\n",
    "        # Perform hyperparameter search\n",
    "        tuner.search(X_train_features, y_train, epochs=10, batch_size=32, validation_split=0.2, verbose=1)\n",
    "\n",
    "        # Get the best hyperparameters\n",
    "        best_hps = tuner.get_best_hyperparameters(num_trials=1)[0]\n",
    "        best_model = tuner.hypermodel.build(best_hps)\n",
    "\n",
    "        # Train the best model\n",
    "        history = best_model.fit(X_train_features, y_train, epochs=20, batch_size=32, validation_split=0.2, verbose=1)\n",
    "\n",
    "        # Predict on validation set\n",
    "        y_pred_prob = best_model.predict(X_test_features)\n",
    "        y_pred = (y_pred_prob > 0.5).astype(int)\n",
    "\n",
    "        # Compute additional metrics\n",
    "        precision = precision_score(y_test, y_pred)\n",
    "        recall = recall_score(y_test, y_pred)\n",
    "        f1 = f1_score(y_test, y_pred)\n",
    "        roc_auc = roc_auc_score(y_test, y_pred_prob)\n",
    "\n",
    "        # Store results\n",
    "        results[method] = {\n",
    "            \"loss\": history.history[\"loss\"],\n",
    "            \"val_loss\": history.history[\"val_loss\"],\n",
    "            \"accuracy\": history.history[\"accuracy\"],\n",
    "            \"val_accuracy\": history.history[\"val_accuracy\"],\n",
    "            \"precision\": precision,\n",
    "            \"recall\": recall,\n",
    "            \"f1_score\": f1,\n",
    "            \"roc_auc\": roc_auc\n",
    "        }\n",
    "\n",
    "        # Save the best model\n",
    "        best_model.save(f\"best_{model_name}_{method}.keras\")\n",
    "\n",
    "    except Exception as e:\n",
    "        print(f\"❌ Error with {method}: {e}\")  \n"
   ]
  },
  {
   "cell_type": "code",
   "execution_count": null,
   "metadata": {},
   "outputs": [
    {
     "data": {
      "image/png": "[encoded data removed]",
      "text/plain": [
       "<Figure size 2000x500 with 4 Axes>"
      ]
     },
     "metadata": {},
     "output_type": "display_data"
    },
    {
     "data": {
      "image/png": "[encoded data removed]",
      "text/plain": [
       "<Figure size 1500x500 with 2 Axes>"
      ]
     },
     "metadata": {},
     "output_type": "display_data"
    }
   ],
   "source": [
    "# Number of methods\n",
    "num_methods = len(results.keys())\n",
    "\n",
    "# Create subplots (1 row, num_methods columns)\n",
    "fig, axes = plt.subplots(1, num_methods, figsize=(5 * num_methods, 5), sharey=True)\n",
    "\n",
    "# If only one method, axes will not be a list, so we ensure it's iterable\n",
    "if num_methods == 1:\n",
    "    axes = [axes]\n",
    "\n",
    "# Plot Training & Validation Loss for each method in a separate subplot\n",
    "for ax, method in zip(axes, results.keys()):\n",
    "    ax.plot(results[method][\"loss\"], label=\"Train Loss\", color=\"blue\")\n",
    "    ax.plot(results[method][\"val_loss\"], label=\"Val Loss\", linestyle=\"dashed\", color=\"red\")\n",
    "    ax.set_xlabel(\"Epochs\")\n",
    "    ax.set_ylabel(\"Loss\")\n",
    "    ax.set_title(f\"Loss Curve - {method}\")\n",
    "    ax.legend()\n",
    "\n",
    "# Adjust layout and show plot\n",
    "plt.tight_layout()\n",
    "plt.show()\n",
    "\n",
    "# Plot Accuracy & ROC-AUC\n",
    "fig, axes = plt.subplots(1, 2, figsize=(15, 5))\n",
    "\n",
    "# Accuracy Plot\n",
    "axes[0].set_title(\"Training & Validation Accuracy\")\n",
    "axes[0].set_xlabel(\"Epochs\")\n",
    "axes[0].set_ylabel(\"Accuracy\")\n",
    "for method in results.keys():\n",
    "    axes[0].plot(results[method][\"accuracy\"], label=f\"{method} - Train Acc\")\n",
    "    axes[0].plot(results[method][\"val_accuracy\"], label=f\"{method} - Val Acc\", linestyle=\"dashed\")\n",
    "axes[0].legend()\n",
    "\n",
    "# ROC-AUC Plot (Bar Chart)\n",
    "methods = list(results.keys())\n",
    "roc_aucs = [results[m][\"roc_auc\"] for m in methods]\n",
    "axes[1].bar(methods, roc_aucs, color=\"skyblue\")\n",
    "axes[1].set_title(\"ROC-AUC Scores\")\n",
    "axes[1].set_xlabel(\"Feature Method\")\n",
    "axes[1].set_ylabel(\"ROC-AUC Score\")\n",
    "\n",
    "plt.show()\n"
   ]
  },
  {
   "cell_type": "markdown",
   "metadata": {},
   "source": [
    "## Something cute 2 LSTM"
   ]
  },
  {
   "cell_type": "code",
   "execution_count": null,
   "metadata": {},
   "outputs": [],
   "source": [
    "for method in tqdm(feature_methods, desc=\"Feature Extraction Progress\"):\n",
    "    print(f\"\\n🔍 Processing feature extraction using: {method}...\")\n",
    "\n",
    "    try:\n",
    "        model_name = \"lstm\"\n",
    "\n",
    "        # Retrieve feature matrices\n",
    "        X_train_features = np.array(X_train_features_dict[method])\n",
    "        X_test_features = np.array(X_test_features_dict[method])\n",
    "\n",
    "        # Ensure correct shape\n",
    "        input_shape = (1, X_train_features.shape[1])\n",
    "        X_train_features = X_train_features.reshape(X_train_features.shape[0], *input_shape)\n",
    "        X_test_features = X_test_features.reshape(X_test_features.shape[0], *input_shape)\n",
    "        \n",
    "        # Get input shape dynamically\n",
    "        input_shape = (X_train_features.shape[1], 1)\n",
    "\n",
    "        # Initialize Keras Tuner\n",
    "        tuner = kt.RandomSearch(\n",
    "            lambda hp: build_lstm_model(hp, input_shape),\n",
    "            objective=\"val_accuracy\",\n",
    "            max_trials=1,\n",
    "            executions_per_trial=1,\n",
    "            directory=\"tuner_results\",\n",
    "            project_name=f\"lstm_tuning_{method}\"\n",
    "        )\n",
    "\n",
    "        # Perform hyperparameter search\n",
    "        tuner.search(X_train_features, y_train, epochs=10, batch_size=32, validation_split=0.2, verbose=1)\n",
    "\n",
    "        # Get the best hyperparameters\n",
    "        best_hps = tuner.get_best_hyperparameters(num_trials=1)[0]\n",
    "        best_model = tuner.hypermodel.build(best_hps)\n",
    "\n",
    "        # Train the best model\n",
    "        history = best_model.fit(X_train_features, y_train, epochs=20, batch_size=32, validation_split=0.2, verbose=1)\n",
    "\n",
    "        # Save the best model\n",
    "        best_model.save(f\"best_{model_name}_{method}.h5\")\n",
    "\n",
    "    except Exception as e:\n",
    "        print(f\"❌ Error with {method}: {e}\")\n"
   ]
  },
  {
   "cell_type": "code",
   "execution_count": 28,
   "metadata": {},
   "outputs": [
    {
     "data": {
      "image/png": "[encoded data removed]",
      "text/plain": [
       "<Figure size 2000x500 with 4 Axes>"
      ]
     },
     "metadata": {},
     "output_type": "display_data"
    },
    {
     "data": {
      "image/png": "[encoded data removed]",
      "text/plain": [
       "<Figure size 1500x500 with 2 Axes>"
      ]
     },
     "metadata": {},
     "output_type": "display_data"
    }
   ],
   "source": [
    "# Plot training & validation loss\n",
    "num_methods = len(results.keys())\n",
    "fig, axes = plt.subplots(1, num_methods, figsize=(5 * num_methods, 5), sharey=True)\n",
    "if num_methods == 1:\n",
    "    axes = [axes]\n",
    "for ax, method in zip(axes, results.keys()):\n",
    "    ax.plot(results[method][\"loss\"], label=\"Train Loss\", color=\"blue\")\n",
    "    ax.plot(results[method][\"val_loss\"], label=\"Val Loss\", linestyle=\"dashed\", color=\"red\")\n",
    "    ax.set_xlabel(\"Epochs\")\n",
    "    ax.set_ylabel(\"Loss\")\n",
    "    ax.set_title(f\"Loss Curve - {method}\")\n",
    "    ax.legend()\n",
    "plt.tight_layout()\n",
    "plt.show()\n",
    "\n",
    "# Plot accuracy & ROC-AUC\n",
    "fig, axes = plt.subplots(1, 2, figsize=(15, 5))\n",
    "axes[0].set_title(\"Training & Validation Accuracy\")\n",
    "axes[0].set_xlabel(\"Epochs\")\n",
    "axes[0].set_ylabel(\"Accuracy\")\n",
    "for method in results.keys():\n",
    "    axes[0].plot(results[method][\"accuracy\"], label=f\"{method} - Train Acc\")\n",
    "    axes[0].plot(results[method][\"val_accuracy\"], label=f\"{method} - Val Acc\", linestyle=\"dashed\")\n",
    "axes[0].legend()\n",
    "\n",
    "methods = list(results.keys())\n",
    "roc_aucs = [results[m][\"roc_auc\"] for m in methods]\n",
    "axes[1].bar(methods, roc_aucs, color=\"skyblue\")\n",
    "axes[1].set_title(\"ROC-AUC Scores\")\n",
    "axes[1].set_xlabel(\"Feature Method\")\n",
    "axes[1].set_ylabel(\"ROC-AUC Score\")\n",
    "plt.show()\n"
   ]
  },
  {
   "cell_type": "markdown",
   "metadata": {},
   "source": [
    "## MLPClassifier chua chay duoc do qua lau"
   ]
  },
  {
   "cell_type": "code",
   "execution_count": 16,
   "metadata": {},
   "outputs": [
    {
     "name": "stdout",
     "output_type": "stream",
     "text": [
      "\n",
      "🔎 Running feature extraction and model training loop...\n",
      "\n"
     ]
    },
    {
     "name": "stderr",
     "output_type": "stream",
     "text": [
      "Feature Extraction Progress:   0%|          | 0/4 [00:00<?, ?it/s]"
     ]
    },
    {
     "name": "stdout",
     "output_type": "stream",
     "text": [
      "\n",
      "🔍 Processing feature extraction using: tfidf...\n",
      "🚀 Training new model: MLPClassifier...\n"
     ]
    },
    {
     "name": "stderr",
     "output_type": "stream",
     "text": [
      "e:\\anaconda3\\envs\\ml_env_test\\Lib\\site-packages\\sklearn\\neural_network\\_multilayer_perceptron.py:697: UserWarning: Training interrupted by user.\n",
      "  warnings.warn(\"Training interrupted by user.\")\n"
     ]
    },
    {
     "ename": "",
     "evalue": "",
     "output_type": "error",
     "traceback": [
      "\u001b[1;31mCannot execute code, session has been disposed. Please try restarting the Kernel."
     ]
    },
    {
     "ename": "",
     "evalue": "",
     "output_type": "error",
     "traceback": [
      "\u001b[1;31mCannot execute code, session has been disposed. Please try restarting the Kernel. \n",
      "\u001b[1;31mView Jupyter <a href='command:jupyter.viewOutput'>log</a> for further details."
     ]
    }
   ],
   "source": [
    "print(\"\\n🔎 Running feature extraction and model training loop...\\n\")\n",
    "\n",
    "for method in tqdm(feature_methods, desc=\"Feature Extraction Progress\"):\n",
    "    print(f\"\\n🔍 Processing feature extraction using: {method}...\")\n",
    "\n",
    "    try:\n",
    "        model_name_mlp = \"mlp\"\n",
    "        \n",
    "        # Retrieve MLP model and hyperparameters\n",
    "        mlp_algorithm = MODEL_DICT[model_name_mlp]()\n",
    "        mlp_params = MODEL_PARAMS[model_name_mlp]\n",
    "\n",
    "        # Train or load model\n",
    "        trained_model = generate_binary_classification_model(\n",
    "            X=X_train_features_dict[method], \n",
    "            y=y_train, \n",
    "            model_algorithm=mlp_algorithm, \n",
    "            hyperparameters=mlp_params, \n",
    "            needs_scaled=True,  # MLP requires feature scaling\n",
    "            model_save_path=f\"best_{model_name_mlp}_{method}.pkl\",\n",
    "            img_save_path=f\"best_{model_name_mlp}_{method}.png\",\n",
    "            img_loss_path=f\"best_{model_name_mlp}_{method}_loss.png\"\n",
    "        )\n",
    "\n",
    "    except Exception as e:\n",
    "        print(f\"❌ Error with {method}: {e}\")\n"
   ]
  },
  {
   "cell_type": "markdown",
   "metadata": {},
   "source": [
    "# Model Predict"
   ]
  },
  {
   "cell_type": "code",
   "execution_count": 15,
   "metadata": {},
   "outputs": [],
   "source": [
    "# model_names = [\"decision_tree\", \"logistic_regression\", \"random_forest\", \"xgboost\", \"perceptron\", \"bayesian_enhanced\", \"svm\"]\n",
    "model_names = [\"decision_tree\", \"logistic_regression\", \"random_forest\", \"perceptron\", \"svm\", \"bayesian\"]"
   ]
  },
  {
   "cell_type": "code",
   "execution_count": null,
   "metadata": {},
   "outputs": [
    {
     "name": "stdout",
     "output_type": "stream",
     "text": [
      "Has predict_proba\n",
      "Model: decision_tree\n",
      "Method: tfidf\n",
      "--------------------------------------------------\n",
      "Accuracy: 0.5300\n",
      "Precision: 0.5190\n",
      "Recall: 0.8200\n",
      "F1 Score: 0.6357\n",
      "ROC AUC: 0.5625\n",
      "--------------------------------------------------\n",
      "Has predict_proba\n",
      "Model: decision_tree\n",
      "Method: count\n",
      "--------------------------------------------------\n",
      "Accuracy: 0.5950\n",
      "Precision: 0.6610\n",
      "Recall: 0.3900\n",
      "F1 Score: 0.4906\n",
      "ROC AUC: 0.6132\n",
      "--------------------------------------------------\n",
      "Has predict_proba\n",
      "Model: decision_tree\n",
      "Method: word2vec\n",
      "--------------------------------------------------\n",
      "Accuracy: 0.6100\n",
      "Precision: 0.5917\n",
      "Recall: 0.7100\n",
      "F1 Score: 0.6455\n",
      "ROC AUC: 0.6072\n",
      "--------------------------------------------------\n",
      "Has predict_proba\n",
      "Model: decision_tree\n",
      "Method: glove\n",
      "--------------------------------------------------\n",
      "Accuracy: 0.5650\n",
      "Precision: 0.5699\n",
      "Recall: 0.5300\n",
      "F1 Score: 0.5492\n",
      "ROC AUC: 0.5854\n",
      "--------------------------------------------------\n",
      "%%%%%%%%%%%%%%%%%%%%%%%%%%%%%%%%%%%%%%%%%%%%%%%%%%\n",
      "Has predict_proba\n",
      "Model: logistic_regression\n",
      "Method: tfidf\n",
      "--------------------------------------------------\n",
      "Accuracy: 0.6550\n",
      "Precision: 0.6281\n",
      "Recall: 0.7600\n",
      "F1 Score: 0.6878\n",
      "ROC AUC: 0.6960\n",
      "--------------------------------------------------\n",
      "Has predict_proba\n",
      "Model: logistic_regression\n",
      "Method: count\n",
      "--------------------------------------------------\n",
      "Accuracy: 0.6350\n",
      "Precision: 0.6195\n",
      "Recall: 0.7000\n",
      "F1 Score: 0.6573\n",
      "ROC AUC: 0.6915\n",
      "--------------------------------------------------\n",
      "Has predict_proba\n",
      "Model: logistic_regression\n",
      "Method: word2vec\n",
      "--------------------------------------------------\n",
      "Accuracy: 0.6950\n",
      "Precision: 0.6857\n",
      "Recall: 0.7200\n",
      "F1 Score: 0.7024\n",
      "ROC AUC: 0.7832\n",
      "--------------------------------------------------\n",
      "Has predict_proba\n",
      "Model: logistic_regression\n",
      "Method: glove\n",
      "--------------------------------------------------\n",
      "Accuracy: 0.6650\n",
      "Precision: 0.6410\n",
      "Recall: 0.7500\n",
      "F1 Score: 0.6912\n",
      "ROC AUC: 0.7248\n",
      "--------------------------------------------------\n",
      "%%%%%%%%%%%%%%%%%%%%%%%%%%%%%%%%%%%%%%%%%%%%%%%%%%\n",
      "Has predict_proba\n",
      "Model: random_forest\n",
      "Method: tfidf\n",
      "--------------------------------------------------\n",
      "Accuracy: 0.5800\n",
      "Precision: 0.5526\n",
      "Recall: 0.8400\n",
      "F1 Score: 0.6667\n",
      "ROC AUC: 0.6647\n",
      "--------------------------------------------------\n",
      "Has predict_proba\n",
      "Model: random_forest\n",
      "Method: count\n",
      "--------------------------------------------------\n",
      "Accuracy: 0.5900\n",
      "Precision: 0.5634\n",
      "Recall: 0.8000\n",
      "F1 Score: 0.6612\n",
      "ROC AUC: 0.6620\n",
      "--------------------------------------------------\n",
      "Has predict_proba\n",
      "Model: random_forest\n",
      "Method: word2vec\n",
      "--------------------------------------------------\n",
      "Accuracy: 0.6750\n",
      "Precision: 0.6667\n",
      "Recall: 0.7000\n",
      "F1 Score: 0.6829\n",
      "ROC AUC: 0.7413\n",
      "--------------------------------------------------\n",
      "Has predict_proba\n",
      "Model: random_forest\n",
      "Method: glove\n",
      "--------------------------------------------------\n",
      "Accuracy: 0.6550\n",
      "Precision: 0.6449\n",
      "Recall: 0.6900\n",
      "F1 Score: 0.6667\n",
      "ROC AUC: 0.7033\n",
      "--------------------------------------------------\n",
      "%%%%%%%%%%%%%%%%%%%%%%%%%%%%%%%%%%%%%%%%%%%%%%%%%%\n",
      "Has decision_function\n",
      "Model: perceptron\n",
      "Method: tfidf\n",
      "--------------------------------------------------\n",
      "Accuracy: 0.6250\n",
      "Precision: 0.6471\n",
      "Recall: 0.5500\n",
      "F1 Score: 0.5946\n",
      "ROC AUC: 0.6825\n",
      "--------------------------------------------------\n",
      "Has decision_function\n",
      "Model: perceptron\n",
      "Method: count\n",
      "--------------------------------------------------\n",
      "Accuracy: 0.6000\n",
      "Precision: 0.6042\n",
      "Recall: 0.5800\n",
      "F1 Score: 0.5918\n",
      "ROC AUC: 0.6507\n",
      "--------------------------------------------------\n",
      "Has decision_function\n",
      "Model: perceptron\n",
      "Method: word2vec\n",
      "--------------------------------------------------\n",
      "Accuracy: 0.5750\n",
      "Precision: 0.5478\n",
      "Recall: 0.8600\n",
      "F1 Score: 0.6693\n",
      "ROC AUC: 0.6977\n",
      "--------------------------------------------------\n",
      "Has decision_function\n",
      "Model: perceptron\n",
      "Method: glove\n",
      "--------------------------------------------------\n",
      "Accuracy: 0.5150\n",
      "Precision: 0.5079\n",
      "Recall: 0.9700\n",
      "F1 Score: 0.6667\n",
      "ROC AUC: 0.6822\n",
      "--------------------------------------------------\n",
      "%%%%%%%%%%%%%%%%%%%%%%%%%%%%%%%%%%%%%%%%%%%%%%%%%%\n",
      "Has decision_function\n",
      "Model: svm\n",
      "Method: tfidf\n",
      "--------------------------------------------------\n",
      "Accuracy: 0.6250\n",
      "Precision: 0.6106\n",
      "Recall: 0.6900\n",
      "F1 Score: 0.6479\n",
      "ROC AUC: 0.6998\n",
      "--------------------------------------------------\n",
      "Has decision_function\n",
      "Model: svm\n",
      "Method: count\n",
      "--------------------------------------------------\n",
      "Accuracy: 0.6300\n",
      "Precision: 0.6121\n",
      "Recall: 0.7100\n",
      "F1 Score: 0.6574\n",
      "ROC AUC: 0.6832\n",
      "--------------------------------------------------\n",
      "Has decision_function\n",
      "Model: svm\n",
      "Method: word2vec\n",
      "--------------------------------------------------\n",
      "Accuracy: 0.7200\n",
      "Precision: 0.7075\n",
      "Recall: 0.7500\n",
      "F1 Score: 0.7282\n",
      "ROC AUC: 0.7844\n",
      "--------------------------------------------------\n",
      "Has decision_function\n",
      "Model: svm\n",
      "Method: glove\n",
      "--------------------------------------------------\n",
      "Accuracy: 0.6050\n",
      "Precision: 0.5882\n",
      "Recall: 0.7000\n",
      "F1 Score: 0.6393\n",
      "ROC AUC: 0.7038\n",
      "--------------------------------------------------\n",
      "%%%%%%%%%%%%%%%%%%%%%%%%%%%%%%%%%%%%%%%%%%%%%%%%%%\n",
      "Has predict_proba\n",
      "Model: bayesian\n",
      "Method: tfidf\n",
      "--------------------------------------------------\n",
      "Accuracy: 0.6100\n",
      "Precision: 0.6833\n",
      "Recall: 0.4100\n",
      "F1 Score: 0.5125\n",
      "ROC AUC: 0.6108\n",
      "--------------------------------------------------\n",
      "Has predict_proba\n",
      "Model: bayesian\n",
      "Method: count\n",
      "--------------------------------------------------\n",
      "Accuracy: 0.6100\n",
      "Precision: 0.7037\n",
      "Recall: 0.3800\n",
      "F1 Score: 0.4935\n",
      "ROC AUC: 0.6480\n",
      "--------------------------------------------------\n",
      "Has predict_proba\n",
      "Model: bayesian\n",
      "Method: word2vec\n",
      "--------------------------------------------------\n",
      "Accuracy: 0.6250\n",
      "Precision: 0.7273\n",
      "Recall: 0.4000\n",
      "F1 Score: 0.5161\n",
      "ROC AUC: 0.6781\n",
      "--------------------------------------------------\n",
      "Has predict_proba\n",
      "Model: bayesian\n",
      "Method: glove\n",
      "--------------------------------------------------\n",
      "Accuracy: 0.6050\n",
      "Precision: 0.6567\n",
      "Recall: 0.4400\n",
      "F1 Score: 0.5269\n",
      "ROC AUC: 0.6470\n",
      "--------------------------------------------------\n",
      "%%%%%%%%%%%%%%%%%%%%%%%%%%%%%%%%%%%%%%%%%%%%%%%%%%\n"
     ]
    }
   ],
   "source": [
    "# Predict for each model\n",
    "for model_name in model_names:\n",
    "    for method in feature_methods:\n",
    "        # Load the saved model\n",
    "        model_filename = os.path.join(project_root, \"src\", \"models\", f\"best_{model_name}_{method}.pkl\")\n",
    "        with open(model_filename, 'rb') as model_file:\n",
    "            model = joblib.load(model_file)\n",
    "\n",
    "        # Make predictions\n",
    "        y_pred = model.predict(X_test_features_dict[method])\n",
    "\n",
    "        # Compute metrics\n",
    "        accuracy = accuracy_score(y_test, y_pred)\n",
    "        precision = precision_score(y_test, y_pred, average='binary')\n",
    "        recall = recall_score(y_test, y_pred, average='binary')\n",
    "        f1 = f1_score(y_test, y_pred, average='binary')\n",
    "        \n",
    "        # ROC AUC can be computed if the model outputs probabilities\n",
    "        # Handle models that do not support `predict_proba`\n",
    "        if hasattr(model, \"predict_proba\"):\n",
    "            print(\"Has predict_proba\")\n",
    "            y_prob = model.predict_proba(X_test_features_dict[method])[:, 1]  # Take the positive class probabilities\n",
    "            roc_auc = roc_auc_score(y_test, y_prob)\n",
    "        elif hasattr(model, \"decision_function\"):\n",
    "            print(\"Has decision_function\")\n",
    "            y_prob = model.decision_function(X_test_features_dict[method])\n",
    "            roc_auc = roc_auc_score(y_test, y_prob)\n",
    "        else:\n",
    "            print(\"Does not have predict_proba or decision_function\")\n",
    "            roc_auc = \"N/A\"  # Not applicable for models like Perceptron\n",
    "\n",
    "        # Print metrics\n",
    "        print(f\"Model: {model_name}\")\n",
    "        print(f\"Method: {method}\")\n",
    "        print(\"-\" * 50)\n",
    "        print(f\"Accuracy: {accuracy:.4f}\")\n",
    "        print(f\"Precision: {precision:.4f}\")\n",
    "        print(f\"Recall: {recall:.4f}\")\n",
    "        print(f\"F1 Score: {f1:.4f}\")\n",
    "        if hasattr(model, \"predict_proba\") or hasattr(model, \"decision_function\"):\n",
    "            print(f\"ROC AUC: {roc_auc:.4f}\")\n",
    "        else:\n",
    "            print(\"ROC AUC: N/A\")\n",
    "        print(\"-\" * 50)\n",
    "    print(\"%\" * 50)"
   ]
  }
 ],
 "metadata": {
  "kernelspec": {
   "display_name": "ml_env_test",
   "language": "python",
   "name": "python3"
  },
  "language_info": {
   "codemirror_mode": {
    "name": "ipython",
    "version": 3
   },
   "file_extension": ".py",
   "mimetype": "text/x-python",
   "name": "python",
   "nbconvert_exporter": "python",
   "pygments_lexer": "ipython3",
   "version": "3.12.8"
  }
 },
 "nbformat": 4,
 "nbformat_minor": 2
}
